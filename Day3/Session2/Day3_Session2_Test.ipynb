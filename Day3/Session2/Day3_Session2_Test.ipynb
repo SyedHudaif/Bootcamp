{
  "nbformat": 4,
  "nbformat_minor": 0,
  "metadata": {
    "colab": {
      "name": "Day3_Session2_Test.ipynb",
      "provenance": [],
      "authorship_tag": "ABX9TyOdU0Ey+mEeiLWAQlHpdC0u",
      "include_colab_link": true
    },
    "kernelspec": {
      "name": "python3",
      "display_name": "Python 3"
    }
  },
  "cells": [
    {
      "cell_type": "markdown",
      "metadata": {
        "id": "view-in-github",
        "colab_type": "text"
      },
      "source": [
        "<a href=\"https://colab.research.google.com/github/SyedHudaif/Bootcamp/blob/master/Day3/Session2/Day3_Session2_Test.ipynb\" target=\"_parent\"><img src=\"https://colab.research.google.com/assets/colab-badge.svg\" alt=\"Open In Colab\"/></a>"
      ]
    },
    {
      "cell_type": "markdown",
      "metadata": {
        "id": "5zjSY874yjRO",
        "colab_type": "text"
      },
      "source": [
        "Print perfect squares and divisible by 5 between 500 and 1000 (both inclusive)\n",
        "using list comprehension"
      ]
    },
    {
      "cell_type": "code",
      "metadata": {
        "id": "7AYwZJTqioqA",
        "colab_type": "code",
        "colab": {
          "base_uri": "https://localhost:8080/",
          "height": 34
        },
        "outputId": "ce2371ea-1102-4970-a57c-5bdda4bfbcd0"
      },
      "source": [
        "print([x for x in range(500,1001) if(x**0.5)%5==0])"
      ],
      "execution_count": 26,
      "outputs": [
        {
          "output_type": "stream",
          "text": [
            "[625, 900]\n"
          ],
          "name": "stdout"
        }
      ]
    },
    {
      "cell_type": "markdown",
      "metadata": {
        "id": "oWXQcSwCy_t1",
        "colab_type": "text"
      },
      "source": [
        "Calculate the Average of the numbers in a List by getting the elements of list from keyboard ."
      ]
    },
    {
      "cell_type": "code",
      "metadata": {
        "id": "rYfIke0PzKvM",
        "colab_type": "code",
        "colab": {
          "base_uri": "https://localhost:8080/",
          "height": 136
        },
        "outputId": "d543322b-121f-49e1-ca5e-255266b72695"
      },
      "source": [
        "l=[]\n",
        "n=int(input(\"Enter no.of elements : \"))\n",
        "print(\"Enter the elements : \")\n",
        "for x in range(n):\n",
        "  l.append(int(input()))\n",
        "\n",
        "print(l)\n",
        "s=sum(l)\n",
        "print(s/n)\n",
        "  "
      ],
      "execution_count": 35,
      "outputs": [
        {
          "output_type": "stream",
          "text": [
            "Enter no.of elements : 3\n",
            "Enter the elements : \n",
            "5\n",
            "6\n",
            "5\n",
            "[5, 6, 5]\n",
            "5.333333333333333\n"
          ],
          "name": "stdout"
        }
      ]
    },
    {
      "cell_type": "markdown",
      "metadata": {
        "id": "MadFRq6czTPN",
        "colab_type": "text"
      },
      "source": [
        "Print lists of odd,even and multiples of 5 numbers from 1 to 1000 using list\n",
        "comprehension"
      ]
    },
    {
      "cell_type": "code",
      "metadata": {
        "id": "fPYJCr2-zUVN",
        "colab_type": "code",
        "colab": {
          "base_uri": "https://localhost:8080/",
          "height": 88
        },
        "outputId": "808b6b93-ea58-44b2-e09e-5ddea369a3bf"
      },
      "source": [
        "l1,l2,l3=[],[],[]\n",
        "for i in range(1,1000):\n",
        "  if (i%2==0):\n",
        "    l1.append(i)\n",
        "  if (i%2==1):\n",
        "    l2.append(i)\n",
        "  if (i%5==0):\n",
        "    l3.append(i)\n",
        "print(\"Even: {0} \\n Odd: {1} \\n Multiples of 5 {2}\".format(l1,l2,l3))"
      ],
      "execution_count": 38,
      "outputs": [
        {
          "output_type": "stream",
          "text": [
            "Even: [2, 4, 6, 8, 10, 12, 14, 16, 18, 20, 22, 24, 26, 28, 30, 32, 34, 36, 38, 40, 42, 44, 46, 48, 50, 52, 54, 56, 58, 60, 62, 64, 66, 68, 70, 72, 74, 76, 78, 80, 82, 84, 86, 88, 90, 92, 94, 96, 98, 100, 102, 104, 106, 108, 110, 112, 114, 116, 118, 120, 122, 124, 126, 128, 130, 132, 134, 136, 138, 140, 142, 144, 146, 148, 150, 152, 154, 156, 158, 160, 162, 164, 166, 168, 170, 172, 174, 176, 178, 180, 182, 184, 186, 188, 190, 192, 194, 196, 198, 200, 202, 204, 206, 208, 210, 212, 214, 216, 218, 220, 222, 224, 226, 228, 230, 232, 234, 236, 238, 240, 242, 244, 246, 248, 250, 252, 254, 256, 258, 260, 262, 264, 266, 268, 270, 272, 274, 276, 278, 280, 282, 284, 286, 288, 290, 292, 294, 296, 298, 300, 302, 304, 306, 308, 310, 312, 314, 316, 318, 320, 322, 324, 326, 328, 330, 332, 334, 336, 338, 340, 342, 344, 346, 348, 350, 352, 354, 356, 358, 360, 362, 364, 366, 368, 370, 372, 374, 376, 378, 380, 382, 384, 386, 388, 390, 392, 394, 396, 398, 400, 402, 404, 406, 408, 410, 412, 414, 416, 418, 420, 422, 424, 426, 428, 430, 432, 434, 436, 438, 440, 442, 444, 446, 448, 450, 452, 454, 456, 458, 460, 462, 464, 466, 468, 470, 472, 474, 476, 478, 480, 482, 484, 486, 488, 490, 492, 494, 496, 498, 500, 502, 504, 506, 508, 510, 512, 514, 516, 518, 520, 522, 524, 526, 528, 530, 532, 534, 536, 538, 540, 542, 544, 546, 548, 550, 552, 554, 556, 558, 560, 562, 564, 566, 568, 570, 572, 574, 576, 578, 580, 582, 584, 586, 588, 590, 592, 594, 596, 598, 600, 602, 604, 606, 608, 610, 612, 614, 616, 618, 620, 622, 624, 626, 628, 630, 632, 634, 636, 638, 640, 642, 644, 646, 648, 650, 652, 654, 656, 658, 660, 662, 664, 666, 668, 670, 672, 674, 676, 678, 680, 682, 684, 686, 688, 690, 692, 694, 696, 698, 700, 702, 704, 706, 708, 710, 712, 714, 716, 718, 720, 722, 724, 726, 728, 730, 732, 734, 736, 738, 740, 742, 744, 746, 748, 750, 752, 754, 756, 758, 760, 762, 764, 766, 768, 770, 772, 774, 776, 778, 780, 782, 784, 786, 788, 790, 792, 794, 796, 798, 800, 802, 804, 806, 808, 810, 812, 814, 816, 818, 820, 822, 824, 826, 828, 830, 832, 834, 836, 838, 840, 842, 844, 846, 848, 850, 852, 854, 856, 858, 860, 862, 864, 866, 868, 870, 872, 874, 876, 878, 880, 882, 884, 886, 888, 890, 892, 894, 896, 898, 900, 902, 904, 906, 908, 910, 912, 914, 916, 918, 920, 922, 924, 926, 928, 930, 932, 934, 936, 938, 940, 942, 944, 946, 948, 950, 952, 954, 956, 958, 960, 962, 964, 966, 968, 970, 972, 974, 976, 978, 980, 982, 984, 986, 988, 990, 992, 994, 996, 998] \n",
            " Odd: [1, 3, 5, 7, 9, 11, 13, 15, 17, 19, 21, 23, 25, 27, 29, 31, 33, 35, 37, 39, 41, 43, 45, 47, 49, 51, 53, 55, 57, 59, 61, 63, 65, 67, 69, 71, 73, 75, 77, 79, 81, 83, 85, 87, 89, 91, 93, 95, 97, 99, 101, 103, 105, 107, 109, 111, 113, 115, 117, 119, 121, 123, 125, 127, 129, 131, 133, 135, 137, 139, 141, 143, 145, 147, 149, 151, 153, 155, 157, 159, 161, 163, 165, 167, 169, 171, 173, 175, 177, 179, 181, 183, 185, 187, 189, 191, 193, 195, 197, 199, 201, 203, 205, 207, 209, 211, 213, 215, 217, 219, 221, 223, 225, 227, 229, 231, 233, 235, 237, 239, 241, 243, 245, 247, 249, 251, 253, 255, 257, 259, 261, 263, 265, 267, 269, 271, 273, 275, 277, 279, 281, 283, 285, 287, 289, 291, 293, 295, 297, 299, 301, 303, 305, 307, 309, 311, 313, 315, 317, 319, 321, 323, 325, 327, 329, 331, 333, 335, 337, 339, 341, 343, 345, 347, 349, 351, 353, 355, 357, 359, 361, 363, 365, 367, 369, 371, 373, 375, 377, 379, 381, 383, 385, 387, 389, 391, 393, 395, 397, 399, 401, 403, 405, 407, 409, 411, 413, 415, 417, 419, 421, 423, 425, 427, 429, 431, 433, 435, 437, 439, 441, 443, 445, 447, 449, 451, 453, 455, 457, 459, 461, 463, 465, 467, 469, 471, 473, 475, 477, 479, 481, 483, 485, 487, 489, 491, 493, 495, 497, 499, 501, 503, 505, 507, 509, 511, 513, 515, 517, 519, 521, 523, 525, 527, 529, 531, 533, 535, 537, 539, 541, 543, 545, 547, 549, 551, 553, 555, 557, 559, 561, 563, 565, 567, 569, 571, 573, 575, 577, 579, 581, 583, 585, 587, 589, 591, 593, 595, 597, 599, 601, 603, 605, 607, 609, 611, 613, 615, 617, 619, 621, 623, 625, 627, 629, 631, 633, 635, 637, 639, 641, 643, 645, 647, 649, 651, 653, 655, 657, 659, 661, 663, 665, 667, 669, 671, 673, 675, 677, 679, 681, 683, 685, 687, 689, 691, 693, 695, 697, 699, 701, 703, 705, 707, 709, 711, 713, 715, 717, 719, 721, 723, 725, 727, 729, 731, 733, 735, 737, 739, 741, 743, 745, 747, 749, 751, 753, 755, 757, 759, 761, 763, 765, 767, 769, 771, 773, 775, 777, 779, 781, 783, 785, 787, 789, 791, 793, 795, 797, 799, 801, 803, 805, 807, 809, 811, 813, 815, 817, 819, 821, 823, 825, 827, 829, 831, 833, 835, 837, 839, 841, 843, 845, 847, 849, 851, 853, 855, 857, 859, 861, 863, 865, 867, 869, 871, 873, 875, 877, 879, 881, 883, 885, 887, 889, 891, 893, 895, 897, 899, 901, 903, 905, 907, 909, 911, 913, 915, 917, 919, 921, 923, 925, 927, 929, 931, 933, 935, 937, 939, 941, 943, 945, 947, 949, 951, 953, 955, 957, 959, 961, 963, 965, 967, 969, 971, 973, 975, 977, 979, 981, 983, 985, 987, 989, 991, 993, 995, 997, 999] \n",
            " Multiples of 5 [5, 10, 15, 20, 25, 30, 35, 40, 45, 50, 55, 60, 65, 70, 75, 80, 85, 90, 95, 100, 105, 110, 115, 120, 125, 130, 135, 140, 145, 150, 155, 160, 165, 170, 175, 180, 185, 190, 195, 200, 205, 210, 215, 220, 225, 230, 235, 240, 245, 250, 255, 260, 265, 270, 275, 280, 285, 290, 295, 300, 305, 310, 315, 320, 325, 330, 335, 340, 345, 350, 355, 360, 365, 370, 375, 380, 385, 390, 395, 400, 405, 410, 415, 420, 425, 430, 435, 440, 445, 450, 455, 460, 465, 470, 475, 480, 485, 490, 495, 500, 505, 510, 515, 520, 525, 530, 535, 540, 545, 550, 555, 560, 565, 570, 575, 580, 585, 590, 595, 600, 605, 610, 615, 620, 625, 630, 635, 640, 645, 650, 655, 660, 665, 670, 675, 680, 685, 690, 695, 700, 705, 710, 715, 720, 725, 730, 735, 740, 745, 750, 755, 760, 765, 770, 775, 780, 785, 790, 795, 800, 805, 810, 815, 820, 825, 830, 835, 840, 845, 850, 855, 860, 865, 870, 875, 880, 885, 890, 895, 900, 905, 910, 915, 920, 925, 930, 935, 940, 945, 950, 955, 960, 965, 970, 975, 980, 985, 990, 995]\n"
          ],
          "name": "stdout"
        }
      ]
    },
    {
      "cell_type": "markdown",
      "metadata": {
        "id": "_WA2_nyx2uBV",
        "colab_type": "text"
      },
      "source": [
        "Write python program to get a list of tuples of Rollno,Name for 5 students through keyboard and sort them by Name wise ascending order"
      ]
    },
    {
      "cell_type": "code",
      "metadata": {
        "id": "Kn8_TACg2uV1",
        "colab_type": "code",
        "colab": {
          "base_uri": "https://localhost:8080/",
          "height": 204
        },
        "outputId": "403d65e5-6813-4262-bd14-da767df1e01f"
      },
      "source": [
        "t=list()\n",
        "[t.append((input(\"Enter the Name\"),input(\"Enter the Rollno\"))) for i in range(5) ]\n",
        "t.sort()\n",
        "print(t)"
      ],
      "execution_count": 40,
      "outputs": [
        {
          "output_type": "stream",
          "text": [
            "Enter the Namekaif\n",
            "Enter the Rollno2\n",
            "Enter the Namesaif\n",
            "Enter the Rollno8\n",
            "Enter the Nametaif\n",
            "Enter the Rollno9\n",
            "Enter the Nameakash\n",
            "Enter the Rollno5\n",
            "Enter the Nameramesh\n",
            "Enter the Rollno14\n",
            "[('akash', '5'), ('kaif', '2'), ('ramesh', '14'), ('saif', '8'), ('taif', '9')]\n"
          ],
          "name": "stdout"
        }
      ]
    },
    {
      "cell_type": "markdown",
      "metadata": {
        "id": "5tHS--wv39XO",
        "colab_type": "text"
      },
      "source": [
        "Write python program to get a list of tuples of Rollno,Name for 5 students through\n",
        "keyboard and sort them by Name wise descending order"
      ]
    },
    {
      "cell_type": "code",
      "metadata": {
        "id": "WXDVUirR39pO",
        "colab_type": "code",
        "colab": {
          "base_uri": "https://localhost:8080/",
          "height": 204
        },
        "outputId": "84e3f227-3a8c-4b36-e338-52fcbf682958"
      },
      "source": [
        "t=list()\n",
        "[t.append((input(\"Enter the Name\"),input(\"Enter the Rollno\"))) for i in range(5) ]\n",
        "t.sort(reverse=True)\n",
        "print(t)"
      ],
      "execution_count": 42,
      "outputs": [
        {
          "output_type": "stream",
          "text": [
            "Enter the Namejagath\n",
            "Enter the Rollno25\n",
            "Enter the Namevikas\n",
            "Enter the Rollno32\n",
            "Enter the Namekaif\n",
            "Enter the Rollno23\n",
            "Enter the Namesaif\n",
            "Enter the Rollno87\n",
            "Enter the Nameasad\n",
            "Enter the Rollno33\n",
            "[('vikas', '32'), ('saif', '87'), ('kaif', '23'), ('jagath', '25'), ('asad', '33')]\n"
          ],
          "name": "stdout"
        }
      ]
    },
    {
      "cell_type": "markdown",
      "metadata": {
        "id": "mHZ44Y8Q4bD0",
        "colab_type": "text"
      },
      "source": [
        "Write python program to get a list of tuples of Rollno,Name for 5 students through\n",
        "keyboard and sort them by Rollno wise descending order"
      ]
    },
    {
      "cell_type": "code",
      "metadata": {
        "id": "pENj-ynf4bcN",
        "colab_type": "code",
        "colab": {
          "base_uri": "https://localhost:8080/",
          "height": 204
        },
        "outputId": "d258abc3-2b23-4a83-e182-48b4de68a305"
      },
      "source": [
        "t=list()\n",
        "[t.append((input(\"Enter the Rollno\"),input(\"Enter the Name\"))) for i in range(5) ]\n",
        "t.sort(reverse=True)\n",
        "print(t)"
      ],
      "execution_count": 45,
      "outputs": [
        {
          "output_type": "stream",
          "text": [
            "Enter the Rollno12\n",
            "Enter the Namevikas\n",
            "Enter the Rollno24\n",
            "Enter the Namejagath\n",
            "Enter the Rollno14\n",
            "Enter the Namerohan\n",
            "Enter the Rollno16\n",
            "Enter the Namesathvik\n",
            "Enter the Rollno87\n",
            "Enter the Namemadan\n",
            "[('87', 'madan'), ('24', 'jagath'), ('16', 'sathvik'), ('14', 'rohan'), ('12', 'vikas')]\n"
          ],
          "name": "stdout"
        }
      ]
    },
    {
      "cell_type": "markdown",
      "metadata": {
        "id": "LK3OH4Ub5HxT",
        "colab_type": "text"
      },
      "source": [
        "Python Program to read a file and capitalize the first letter of every word in the file and\n",
        "copy the every word capitalized content into another file and read it ."
      ]
    },
    {
      "cell_type": "code",
      "metadata": {
        "id": "C2GRqnVI5eKs",
        "colab_type": "code",
        "colab": {
          "base_uri": "https://localhost:8080/",
          "height": 139
        },
        "outputId": "191e7271-7989-414e-be13-6c6acf293f3b"
      },
      "source": [
        "f=input(\"File name: \")\n",
        "f1=open(f,'r')\n",
        "with open('out.txt','w') as f2:\n",
        "  for line in f1:\n",
        "    f2.write(line.title())\n",
        "with open('out.txt','r') as f2:\n",
        "  for line in f2:\n",
        "    print(line)"
      ],
      "execution_count": 48,
      "outputs": [
        {
          "output_type": "stream",
          "text": [
            "File name: /content/Filess.txt\n",
            "Python Is An Interpreted, High-Level And General-Purpose Programming Language. \n",
            "\n",
            "Created By Guido Van Rossum And First Released In 1991, Python'S Design Philosophy Emphasizes Code Readability With Its Notable Use Of Significant Whitespace. \n",
            "\n",
            "Its Language Constructs And Object-Oriented Approach Aim To Help Programmers Write Clear, Logical Code For Small And Large-Scale Projects.\n"
          ],
          "name": "stdout"
        }
      ]
    },
    {
      "cell_type": "markdown",
      "metadata": {
        "id": "A9G0nsDi64mF",
        "colab_type": "text"
      },
      "source": [
        "Python Program to count the number of blank spaces in a text file."
      ]
    },
    {
      "cell_type": "code",
      "metadata": {
        "id": "aCznEb9c7C4S",
        "colab_type": "code",
        "colab": {
          "base_uri": "https://localhost:8080/",
          "height": 51
        },
        "outputId": "c137d062-32f5-420e-aecd-2f4e1b98b6e3"
      },
      "source": [
        "fname = input(\"Enter file name: \")\n",
        "c = 0\n",
        "with open(fname, 'r') as f:\n",
        "    for line in f:\n",
        "        for i in line:\n",
        "              if i ==\" \":\n",
        "                  c=c+1\n",
        "print(\"Total blank spaces are : \",c)"
      ],
      "execution_count": 49,
      "outputs": [
        {
          "output_type": "stream",
          "text": [
            "Enter file name: /content/Filess.txt\n",
            "Total blank spaces are :  50\n"
          ],
          "name": "stdout"
        }
      ]
    }
  ]
}