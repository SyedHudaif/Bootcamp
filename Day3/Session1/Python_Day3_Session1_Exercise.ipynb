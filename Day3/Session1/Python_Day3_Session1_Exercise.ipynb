{
  "nbformat": 4,
  "nbformat_minor": 0,
  "metadata": {
    "colab": {
      "name": "Python_Day3_Session1_Exercise.ipynb",
      "provenance": [],
      "authorship_tag": "ABX9TyNzX6dl74+vu28DYiUt0bIj",
      "include_colab_link": true
    },
    "kernelspec": {
      "name": "python3",
      "display_name": "Python 3"
    }
  },
  "cells": [
    {
      "cell_type": "markdown",
      "metadata": {
        "id": "view-in-github",
        "colab_type": "text"
      },
      "source": [
        "<a href=\"https://colab.research.google.com/github/SyedHudaif/Bootcamp/blob/master/Day3/Session1/Python_Day3_Session1_Exercise.ipynb\" target=\"_parent\"><img src=\"https://colab.research.google.com/assets/colab-badge.svg\" alt=\"Open In Colab\"/></a>"
      ]
    },
    {
      "cell_type": "markdown",
      "metadata": {
        "id": "6xSjzNCKZzwz",
        "colab_type": "text"
      },
      "source": [
        "1. Python program to find volume and surface area of Cylinder (V=pi*r*r*h, SA=2*pi*r*h)\n",
        "using class and objects. Create a constructor to initialize the objects and print the results\n",
        "with 2 decimal points precision.( Finding Vol and SA using class and object)"
      ]
    },
    {
      "cell_type": "code",
      "metadata": {
        "id": "9HdaYLWFZpcA",
        "colab_type": "code",
        "colab": {
          "base_uri": "https://localhost:8080/",
          "height": 85
        },
        "outputId": "3695f906-d678-4a76-8bf2-504a21d0cdd2"
      },
      "source": [
        "import math\n",
        "class cylinder():\n",
        "  def __init__(self,radius,height):\n",
        "    self.radius=radius\n",
        "    self.height=height\n",
        "  def area(self):\n",
        "    return 2*math.pi*(self.radius)*(self.height)\n",
        "  def volume(self):\n",
        "    return math.pi*(self.radius**2)*(self.height)\n",
        "r=int(input(\"Enter radius of cylinder: \"))\n",
        "h=int(input(\"Enter height of cylinder: \"))\n",
        "obj=cylinder(r,h)\n",
        "print(\"Surface Area of cylinder:\",round(obj.area(),2))\n",
        "print(\"Volume of cylinder:\",round(obj.volume(),2))"
      ],
      "execution_count": 2,
      "outputs": [
        {
          "output_type": "stream",
          "text": [
            "Enter radius of cylinder: 3\n",
            "Enter height of cylinder: 4\n",
            "Surface Area of cylinder: 75.4\n",
            "Volume of cylinder: 113.1\n"
          ],
          "name": "stdout"
        }
      ]
    },
    {
      "cell_type": "markdown",
      "metadata": {
        "id": "C8Ye1FMxZyNl",
        "colab_type": "text"
      },
      "source": [
        "2. Create a class Student with constructor, setdata() and dispdata() for encapsulating\n",
        "rollno, name, mark1, mark2 into it. Create three objects obj1, obj2, obj3 from class\n",
        "Student. Set rollno, name, mark1, mark2 for 3 students using setdata() and display\n",
        "them using dispdata().\n",
        "(simple class and object with constructor)"
      ]
    },
    {
      "cell_type": "code",
      "metadata": {
        "id": "r0L5Nt--bJDj",
        "colab_type": "code",
        "colab": {
          "base_uri": "https://localhost:8080/",
          "height": 221
        },
        "outputId": "63994613-f24b-4552-8426-d553693a0ac7"
      },
      "source": [
        "class Student:\n",
        "  def __init__(self):\n",
        "    self.rollno = None\n",
        "    self.name = None\n",
        "    self.mark1 = None\n",
        "    self.mark2 = None\n",
        "  def setdata(self, rollno, name, mark1, mark2):\n",
        "    self.rollno = rollno\n",
        "    self.name = name\n",
        "    self.mark1 = mark1\n",
        "    self.mark2 = mark2\n",
        "  def dispdata(self):\n",
        "    print(\"Roll.no :\",self.rollno)\n",
        "    print(\"Name : \" ,self.name)\n",
        "    print(\"Mark1 : \" ,self.mark1)\n",
        "    print(\"Mark2 : \",self.mark1)\n",
        "obj1=Student()\n",
        "obj2=Student()\n",
        "obj3=Student()\n",
        "obj1.setdata(111,'Kaif',89,76)\n",
        "obj2.setdata(134,'Taif',98,86)\n",
        "obj3.setdata(101,'Saif',56,77)\n",
        "obj1.dispdata()\n",
        "obj2.dispdata()\n",
        "obj3.dispdata()\n",
        "#print(person.name)\n",
        "#print(person.age)"
      ],
      "execution_count": 11,
      "outputs": [
        {
          "output_type": "stream",
          "text": [
            "Roll.no : 111\n",
            "Name :  Kaif\n",
            "Mark1 :  89\n",
            "Mark2 :  89\n",
            "Roll.no : 134\n",
            "Name :  Taif\n",
            "Mark1 :  98\n",
            "Mark2 :  98\n",
            "Roll.no : 101\n",
            "Name :  Saif\n",
            "Mark1 :  56\n",
            "Mark2 :  56\n"
          ],
          "name": "stdout"
        }
      ]
    },
    {
      "cell_type": "markdown",
      "metadata": {
        "id": "d7yqdOO7fMFN",
        "colab_type": "text"
      },
      "source": [
        "3. Create a parent class Person with constructor(name, idnumber), display() to display\n",
        "name and idnumber and child class Employee with constructor(name, idnumber\n",
        "salary, post) and display() to display name, idnumber, salary and post. Create object x of parent to pass name and idnumber as parameter and display them. Create\n",
        "objects a and b of Employee to pass name, idnumber, salary and post and display\n",
        "them (single inheritance)"
      ]
    },
    {
      "cell_type": "code",
      "metadata": {
        "id": "G8pCTlC5fMe7",
        "colab_type": "code",
        "colab": {
          "base_uri": "https://localhost:8080/",
          "height": 187
        },
        "outputId": "daa1c6ce-6aa5-4db1-82bf-0bc635842a19"
      },
      "source": [
        "class Person:\n",
        "  def __init__(self,name,idnumber):\n",
        "    self.name=name\n",
        "    self.idnumber=idnumber\n",
        "  def display(self):\n",
        "    print(\"Name: \", self.name)\n",
        "    print(\"Id: \", self.idnumber)\n",
        "\n",
        "class Employee(Person):\n",
        "  def __init__(self,name,idnumber,salary,post):\n",
        "    Person.__init__(self,name,idnumber)  \n",
        "    self.salary=salary\n",
        "    self.post=post\n",
        "  def display(self):\n",
        "    Person.display(self)\n",
        "    print(\"Salary: \",self.salary)\n",
        "    print(\"Post: \",self.post)\n",
        "\n",
        "x=Person('Zlatan',9)\n",
        "x.display()\n",
        "a=Employee('Leo',10,50000,'Director')\n",
        "a.display()\n",
        "b=Employee('Son',7,70000,'Manager')\n",
        "b.display()\n",
        "\n",
        "\n",
        "\n"
      ],
      "execution_count": 16,
      "outputs": [
        {
          "output_type": "stream",
          "text": [
            "Name:  Zlatan\n",
            "Id:  9\n",
            "Name:  Leo\n",
            "Id:  10\n",
            "Salary:  50000\n",
            "Post:  Director\n",
            "Name:  Son\n",
            "Id:  7\n",
            "Salary:  70000\n",
            "Post:  Manager\n"
          ],
          "name": "stdout"
        }
      ]
    },
    {
      "cell_type": "markdown",
      "metadata": {
        "id": "XAs_ik8OlLby",
        "colab_type": "text"
      },
      "source": [
        "4. Create a parent class student in which a method getStudent() is defined to get rollno\n",
        "and name of the student. Create a child class called test in which a method\n",
        "getMarks() is defined to get maths and science marks. Create a grandchild class\n",
        "called marks in which display() is defined to display all the details\n",
        "rollno,name,maths marks, science marks and average marks (of science and maths)\n",
        "(Multilevel inheritance problem)"
      ]
    },
    {
      "cell_type": "code",
      "metadata": {
        "id": "AUw94FujlMBi",
        "colab_type": "code",
        "colab": {
          "base_uri": "https://localhost:8080/",
          "height": 102
        },
        "outputId": "7d9ce365-ed54-4452-d47f-1ccc5d10586a"
      },
      "source": [
        "class student:\n",
        "  def getstudent(self,rollno,name):\n",
        "    self.rollno = rollno\n",
        "    self.name = name\n",
        "class test(student):\n",
        "  def getMarks(self,maths,science):\n",
        "    self.maths=maths\n",
        "    self.science=science\n",
        "class marks(test):\n",
        "  def display(self):\n",
        "    print(\"Rollno :\",self.rollno)\n",
        "    print(\"Name :\",self.name)\n",
        "    print(\"Maths :\",self.maths)\n",
        "    print(\"Science :\",self.science)\n",
        "    print(\"Average :\",(self.maths + self.science)/2)\n",
        "s1 = marks()\n",
        "s1.getstudent(109,\"Mark\")\n",
        "s1.getMarks(89,78)\n",
        "s1.display()"
      ],
      "execution_count": 19,
      "outputs": [
        {
          "output_type": "stream",
          "text": [
            "Rollno : 109\n",
            "Name : Mark\n",
            "Maths : 89\n",
            "Science : 78\n",
            "Average : 83.5\n"
          ],
          "name": "stdout"
        }
      ]
    }
  ]
}