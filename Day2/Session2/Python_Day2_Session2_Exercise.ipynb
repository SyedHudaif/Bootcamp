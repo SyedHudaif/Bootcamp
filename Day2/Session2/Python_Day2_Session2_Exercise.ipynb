{
  "nbformat": 4,
  "nbformat_minor": 0,
  "metadata": {
    "colab": {
      "name": "Python_Day2_Session2_Exercise.ipynb",
      "provenance": [],
      "toc_visible": true,
      "authorship_tag": "ABX9TyOmBPaWujIrdFdJDsPD15Cz",
      "include_colab_link": true
    },
    "kernelspec": {
      "name": "python3",
      "display_name": "Python 3"
    }
  },
  "cells": [
    {
      "cell_type": "markdown",
      "metadata": {
        "id": "view-in-github",
        "colab_type": "text"
      },
      "source": [
        "<a href=\"https://colab.research.google.com/github/SyedHudaif/Bootcamp/blob/master/Day2/Session2/Python_Day2_Session2_Exercise.ipynb\" target=\"_parent\"><img src=\"https://colab.research.google.com/assets/colab-badge.svg\" alt=\"Open In Colab\"/></a>"
      ]
    },
    {
      "cell_type": "markdown",
      "metadata": {
        "id": "khmc-2AHAPC7",
        "colab_type": "text"
      },
      "source": [
        "#Dictionary"
      ]
    },
    {
      "cell_type": "markdown",
      "metadata": {
        "id": "FmxSRRqLAXQn",
        "colab_type": "text"
      },
      "source": [
        "1. Add rollno and marks {name:mark} for n number of students through keyboard in a diction-\n",
        "ary and print the marks in descending order with respective name."
      ]
    },
    {
      "cell_type": "code",
      "metadata": {
        "id": "DcVTFFV7AWPT",
        "colab_type": "code",
        "colab": {
          "base_uri": "https://localhost:8080/",
          "height": 153
        },
        "outputId": "d1c5a846-c811-45dd-e241-9c8215d8fd53"
      },
      "source": [
        "import operator\n",
        "d={}\n",
        "for i in range(int(input(\"Enter number of students: \"))):\n",
        "  str1=input(\"Enter name: \")\n",
        "  x=int(input(\"Enter marks: \"))\n",
        "  d[str1]=x\n",
        "sorted_d= sorted(d.items(), key=operator.itemgetter(1),reverse=True)\n",
        "print(sorted_d)"
      ],
      "execution_count": null,
      "outputs": [
        {
          "output_type": "stream",
          "text": [
            "Enter number of students: 3\n",
            "Enter name: jaggu\n",
            "Enter marks: 35\n",
            "Enter name: Vicky\n",
            "Enter marks: 10\n",
            "Enter name: Hudaif\n",
            "Enter marks: 100\n",
            "[('Hudaif', 100), ('jaggu', 35), ('Vicky', 10)]\n"
          ],
          "name": "stdout"
        }
      ]
    },
    {
      "cell_type": "markdown",
      "metadata": {
        "id": "m9AznH3-DEEU",
        "colab_type": "text"
      },
      "source": [
        "2. Add name and salary {name:salary} for n number of employees through keyboard in a dic-\n",
        "tionary and print them in name alphabetical order with salary"
      ]
    },
    {
      "cell_type": "code",
      "metadata": {
        "id": "0qwcUdeuDJej",
        "colab_type": "code",
        "colab": {
          "base_uri": "https://localhost:8080/",
          "height": 153
        },
        "outputId": "d5510d72-19c2-4c48-953c-8277134a0320"
      },
      "source": [
        "import operator\n",
        "d={}\n",
        "for i in range(int(input(\"Enter number of employees: \"))):\n",
        "  str1=input(\"Enter name: \")\n",
        "  x=int(input(\"Enter salary: \"))\n",
        "  d[str1]=x\n",
        "sorted_a= sorted(d.items(), key=operator.itemgetter(0))\n",
        "print(sorted_a)"
      ],
      "execution_count": null,
      "outputs": [
        {
          "output_type": "stream",
          "text": [
            "Enter number of employees: 3\n",
            "Enter name: Ramesh\n",
            "Enter salary: 99999\n",
            "Enter name: Zlatan\n",
            "Enter salary: 150000\n",
            "Enter name: Leo\n",
            "Enter salary: 299999\n",
            "[('Leo', 299999), ('Ramesh', 99999), ('Zlatan', 150000)]\n"
          ],
          "name": "stdout"
        }
      ]
    },
    {
      "cell_type": "markdown",
      "metadata": {
        "id": "KszU7QS0EbsL",
        "colab_type": "text"
      },
      "source": [
        "3. Add name and salary {name:salary} for n number of employees through keyboard in a dictionary and print them in salary ascending order and sum, max, min and average of the\n",
        "salaries"
      ]
    },
    {
      "cell_type": "code",
      "metadata": {
        "id": "gixz90mrEqtz",
        "colab_type": "code",
        "colab": {
          "base_uri": "https://localhost:8080/",
          "height": 221
        },
        "outputId": "14a38f45-5ad9-4879-befa-fec393f96fad"
      },
      "source": [
        "import operator\n",
        "d={}\n",
        "for i in range(int(input(\"Enter number of employees: \"))):\n",
        "  str1=input(\"Enter name: \")\n",
        "  x=int(input(\"Enter salary: \"))\n",
        "  d[str1]=x\n",
        "sorted_a= sorted(d.items(), key=operator.itemgetter(1))\n",
        "print(sorted_a)\n",
        "print(\"Sum is\",sum(d.values()))\n",
        "print(\"Max is\",max(d.values()))\n",
        "print(\"Min is\",min(d.values()))\n",
        "print(\"Avg is\",sum(d.values())/len(d))"
      ],
      "execution_count": null,
      "outputs": [
        {
          "output_type": "stream",
          "text": [
            "Enter number of employees: 3\n",
            "Enter name: Ramesh\n",
            "Enter salary: 326565\n",
            "Enter name: Suresh\n",
            "Enter salary: 7845\n",
            "Enter name: Naresh\n",
            "Enter salary: 6566\n",
            "[('Naresh', 6566), ('Suresh', 7845), ('Ramesh', 326565)]\n",
            "Sum is 340976\n",
            "Max is 326565\n",
            "Min is 6566\n",
            "Avg is 113658.66666666667\n"
          ],
          "name": "stdout"
        }
      ]
    },
    {
      "cell_type": "markdown",
      "metadata": {
        "id": "W8Em8VtXFUqD",
        "colab_type": "text"
      },
      "source": [
        "4. Add name and salary {name:salary} for n number of employees through keyboard in a dictionary and print only the employees whose salary is greater than 2000 but less than 4000"
      ]
    },
    {
      "cell_type": "code",
      "metadata": {
        "id": "XeekuxdJFZ38",
        "colab_type": "code",
        "colab": {
          "base_uri": "https://localhost:8080/",
          "height": 153
        },
        "outputId": "2df57810-6177-4cd0-db4f-1c118f8ce0d6"
      },
      "source": [
        "d={}\n",
        "for i in range(int(input(\"Enter number of employees: \"))):\n",
        "  str1=input(\"Enter name: \")\n",
        "  x=int(input(\"Enter salary: \"))\n",
        "  d[str1]=x\n",
        "s2 = {key:val for key, val in d.items() if val > 2000 and val < 4000}\n",
        "print(s2)"
      ],
      "execution_count": null,
      "outputs": [
        {
          "output_type": "stream",
          "text": [
            "Enter number of employees: 3\n",
            "Enter name: Leo\n",
            "Enter salary: 2500\n",
            "Enter name: Jio\n",
            "Enter salary: 4500\n",
            "Enter name: Ceo\n",
            "Enter salary: 600\n",
            "{'Leo': 2500}\n"
          ],
          "name": "stdout"
        }
      ]
    },
    {
      "cell_type": "markdown",
      "metadata": {
        "id": "7xgs3l_pF8sr",
        "colab_type": "text"
      },
      "source": [
        "5. Python program to convert a 3 digit number into words"
      ]
    },
    {
      "cell_type": "code",
      "metadata": {
        "id": "VpSqprQnGc9D",
        "colab_type": "code",
        "colab": {
          "base_uri": "https://localhost:8080/",
          "height": 51
        },
        "outputId": "ee8bc7b5-2830-49f1-f01e-6add246a46b2"
      },
      "source": [
        "d={0:'',1:'one',2:'two',3:'three',4:'four',5:'five',6:'six',7:'seven',8:'eight',9:'nine',\\\n",
        "   10:'ten',11:'eleven',12:'twelve',13:'thirteen',14:'fourteen',15:'fifteen',16:'sixteen',\\\n",
        "   17:'seventeen',18:'eightteen',19:'nineteen',20:'twenty',30:'thirty',40:'fourty',50:'fifty',\\\n",
        "   60:'sixty',70:'seventy',80:'eighty',90:'ninty',100:'hundred'}\n",
        "\n",
        "num=int(input(\"Enter the integer between 1 to 999:\"))\n",
        "if (num<=20):\n",
        "      print(d[num])\n",
        "if(num>20 and num<100):\n",
        "        if num%10==0:       \n",
        "            print(d[num])\n",
        "        else:\n",
        "            print(d[num//10*10]+\" \"+d[num%10])\n",
        "if(num>99 and num<1000):\n",
        "            print(d[num//100]+\" \"+d[100]+\" \"+d[num//10%10*10]+\" \"+d[num%10])\n"
      ],
      "execution_count": 18,
      "outputs": [
        {
          "output_type": "stream",
          "text": [
            "Enter the integer between 1 to 999:675\n",
            "six hundred seventy five\n"
          ],
          "name": "stdout"
        }
      ]
    },
    {
      "cell_type": "markdown",
      "metadata": {
        "id": "f9EUORilH8bM",
        "colab_type": "text"
      },
      "source": [
        "#Files"
      ]
    },
    {
      "cell_type": "markdown",
      "metadata": {
        "id": "bzs4RKM8ILgb",
        "colab_type": "text"
      },
      "source": [
        "Python Program to count the total number of charaters (except blank space) in a text file."
      ]
    },
    {
      "cell_type": "code",
      "metadata": {
        "id": "BMaTgmgsIQgz",
        "colab_type": "code",
        "colab": {
          "base_uri": "https://localhost:8080/",
          "height": 68
        },
        "outputId": "7a018e5e-1189-45a5-df43-163e602b5a90"
      },
      "source": [
        "fname = input(\"Enter file name: \")\n",
        "k = 0\n",
        "file = open(fname, \"r\")\n",
        "data = file.read().replace(\" \",\"\")\n",
        "k = len(data)\n",
        "print(\"Total number of characters are::\")\n",
        "print(k)"
      ],
      "execution_count": null,
      "outputs": [
        {
          "output_type": "stream",
          "text": [
            "Enter file name: /content/Filess.txt\n",
            "Total number of characters are::\n",
            "328\n"
          ],
          "name": "stdout"
        }
      ]
    },
    {
      "cell_type": "markdown",
      "metadata": {
        "id": "W4-gjhw1IiXo",
        "colab_type": "text"
      },
      "source": [
        "Python Program to print all the numbers present in a text file with its total number of occurrence."
      ]
    },
    {
      "cell_type": "code",
      "metadata": {
        "id": "7gQ3mqziIltz",
        "colab_type": "code",
        "colab": {
          "base_uri": "https://localhost:8080/",
          "height": 51
        },
        "outputId": "f9339921-1e5c-4446-d33e-90acd863886b"
      },
      "source": [
        "fname = input(\"Enter file name: \")\n",
        "d={x:0 for x in range(0,10)}\n",
        "with open(fname, 'r') as f:\n",
        "    for line in f:\n",
        "        words = line.split()\n",
        "        for i in words:\n",
        "            for letter in i:\n",
        "                if(letter.isdigit()):\n",
        "                    d[int(letter)]+=1\n",
        "d1 = {key:val for key, val in d.items() if val > 0}\n",
        "print(d1)"
      ],
      "execution_count": null,
      "outputs": [
        {
          "output_type": "stream",
          "text": [
            "Enter file name: /content/Filess.txt\n",
            "{0: 2, 1: 2, 5: 4, 6: 1, 7: 3, 9: 3}\n"
          ],
          "name": "stdout"
        }
      ]
    },
    {
      "cell_type": "markdown",
      "metadata": {
        "id": "SW4mLRIrJI5r",
        "colab_type": "text"
      },
      "source": [
        "Python Program to append the contents of one file to another file by getting the both file names\n",
        "through keyboard ."
      ]
    },
    {
      "cell_type": "code",
      "metadata": {
        "id": "eI9frJOmJNyN",
        "colab_type": "code",
        "colab": {
          "base_uri": "https://localhost:8080/",
          "height": 51
        },
        "outputId": "548196d9-0196-414a-d5b6-32d75644a8ec"
      },
      "source": [
        "fname = input(\"Enter filename: \")\n",
        "fname1 = input(\"Enter another filename: \")\n",
        "with open(fname, \"r\") as f:\n",
        "    with open(fname1, \"a\") as f1:\n",
        "        for line in f:\n",
        "            f1.write(line)"
      ],
      "execution_count": null,
      "outputs": [
        {
          "output_type": "stream",
          "text": [
            "Enter filename: /content/Filess.txt\n",
            "Enter another filename: /content/sample.txt\n"
          ],
          "name": "stdout"
        }
      ]
    },
    {
      "cell_type": "markdown",
      "metadata": {
        "id": "8mtD1xUqPxAo",
        "colab_type": "text"
      },
      "source": [
        "Python Program to count the number of blank spaces in a text file."
      ]
    },
    {
      "cell_type": "code",
      "metadata": {
        "id": "hN3-rSSyP3Ys",
        "colab_type": "code",
        "colab": {
          "base_uri": "https://localhost:8080/",
          "height": 51
        },
        "outputId": "a9533025-d160-4d3a-8e20-18a9fae1afac"
      },
      "source": [
        "fname = input(\"Enter file name: \")\n",
        "c = 0\n",
        "with open(fname, 'r') as f:\n",
        "    for line in f:\n",
        "        for i in line:\n",
        "              if i ==\" \":\n",
        "                  c=c+1\n",
        "print(\"Total blank spaces are : \",c)"
      ],
      "execution_count": 20,
      "outputs": [
        {
          "output_type": "stream",
          "text": [
            "Enter file name: /content/Ss.txt\n",
            "Total blank spaces are :  49\n"
          ],
          "name": "stdout"
        }
      ]
    },
    {
      "cell_type": "markdown",
      "metadata": {
        "id": "ZoY_2gKmOJtA",
        "colab_type": "text"
      },
      "source": [
        "Python Program to read a file and capitalize the first letter of every word in the file and copy the every word capitalized content into another file and read it ."
      ]
    },
    {
      "cell_type": "code",
      "metadata": {
        "id": "D5Xr6uW5ONyW",
        "colab_type": "code",
        "colab": {
          "base_uri": "https://localhost:8080/",
          "height": 122
        },
        "outputId": "ad07ec16-2202-4a59-9964-a330818c52d0"
      },
      "source": [
        "fn = input(\"Enter file name: \")\n",
        "fn1 = input(\"Enter another filename: \")\n",
        "with open(fn, 'r') as f:\n",
        "  with open(fn1, \"w\") as f1:\n",
        "    for line in f:\n",
        "        l=line.title()\n",
        "        f1.write(l)\n",
        "        print(l)"
      ],
      "execution_count": 21,
      "outputs": [
        {
          "output_type": "stream",
          "text": [
            "Enter file name: /content/Ss.txt\n",
            "Enter another filename: out.txt\n",
            "Python Is An Interpreted, High-Level And General-Purpose Programming Language.\n",
            "\n",
            "Created By Guido Van Rossum And First Released In 1991, Python'S Design Philosophy Emphasizes Code Readability With Its Notable Use Of Significant Whitespace. Its Language Constructs And Object-Oriented Approach Aim To Help Programmers Write Clear, Logical Code For Small And Large-Scale Projects\n"
          ],
          "name": "stdout"
        }
      ]
    }
  ]
}