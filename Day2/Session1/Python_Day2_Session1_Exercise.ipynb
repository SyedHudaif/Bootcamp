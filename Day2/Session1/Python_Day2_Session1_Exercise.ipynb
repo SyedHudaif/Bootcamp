{
  "nbformat": 4,
  "nbformat_minor": 0,
  "metadata": {
    "colab": {
      "name": "Python_Day2_Session1_Exercise.ipynb",
      "provenance": [],
      "collapsed_sections": [],
      "authorship_tag": "ABX9TyMSc+rKNJbfWr119o0U6r1o",
      "include_colab_link": true
    },
    "kernelspec": {
      "name": "python3",
      "display_name": "Python 3"
    }
  },
  "cells": [
    {
      "cell_type": "markdown",
      "metadata": {
        "id": "view-in-github",
        "colab_type": "text"
      },
      "source": [
        "<a href=\"https://colab.research.google.com/github/SyedHudaif/Bootcamp/blob/master/Day2/Session1/Python_Day2_Session1_Exercise.ipynb\" target=\"_parent\"><img src=\"https://colab.research.google.com/assets/colab-badge.svg\" alt=\"Open In Colab\"/></a>"
      ]
    },
    {
      "cell_type": "markdown",
      "metadata": {
        "id": "MC9O9JTMEBUn",
        "colab_type": "text"
      },
      "source": [
        "#Lists"
      ]
    },
    {
      "cell_type": "markdown",
      "metadata": {
        "id": "X5dfopwuBQ1o",
        "colab_type": "text"
      },
      "source": [
        "1.print multiples of 3 upto 200 using a list"
      ]
    },
    {
      "cell_type": "code",
      "metadata": {
        "id": "lHJNmf2nBSwW",
        "colab_type": "code",
        "colab": {
          "base_uri": "https://localhost:8080/",
          "height": 54
        },
        "outputId": "e2b77ba4-c5d6-4cfc-c1d8-35690f56e9d4"
      },
      "source": [
        "l=[3*x for x in range(201)]\n",
        "print(l)"
      ],
      "execution_count": 2,
      "outputs": [
        {
          "output_type": "stream",
          "text": [
            "[0, 3, 6, 9, 12, 15, 18, 21, 24, 27, 30, 33, 36, 39, 42, 45, 48, 51, 54, 57, 60, 63, 66, 69, 72, 75, 78, 81, 84, 87, 90, 93, 96, 99, 102, 105, 108, 111, 114, 117, 120, 123, 126, 129, 132, 135, 138, 141, 144, 147, 150, 153, 156, 159, 162, 165, 168, 171, 174, 177, 180, 183, 186, 189, 192, 195, 198, 201, 204, 207, 210, 213, 216, 219, 222, 225, 228, 231, 234, 237, 240, 243, 246, 249, 252, 255, 258, 261, 264, 267, 270, 273, 276, 279, 282, 285, 288, 291, 294, 297, 300, 303, 306, 309, 312, 315, 318, 321, 324, 327, 330, 333, 336, 339, 342, 345, 348, 351, 354, 357, 360, 363, 366, 369, 372, 375, 378, 381, 384, 387, 390, 393, 396, 399, 402, 405, 408, 411, 414, 417, 420, 423, 426, 429, 432, 435, 438, 441, 444, 447, 450, 453, 456, 459, 462, 465, 468, 471, 474, 477, 480, 483, 486, 489, 492, 495, 498, 501, 504, 507, 510, 513, 516, 519, 522, 525, 528, 531, 534, 537, 540, 543, 546, 549, 552, 555, 558, 561, 564, 567, 570, 573, 576, 579, 582, 585, 588, 591, 594, 597, 600]\n"
          ],
          "name": "stdout"
        }
      ]
    },
    {
      "cell_type": "markdown",
      "metadata": {
        "id": "eYcR7MroB4FX",
        "colab_type": "text"
      },
      "source": [
        "2.print the nos only divisable by 5 and 7 between 1000 and 2000 using a list( both\n",
        "inclusive)"
      ]
    },
    {
      "cell_type": "code",
      "metadata": {
        "id": "f9K2L-kXB4On",
        "colab_type": "code",
        "colab": {
          "base_uri": "https://localhost:8080/",
          "height": 54
        },
        "outputId": "214f4a73-89d0-4d28-f1f8-8150d400ff00"
      },
      "source": [
        "l=[x for x in range(1000,2000) if(x%5==0 or x%7==0)]\n",
        "print(l)"
      ],
      "execution_count": 6,
      "outputs": [
        {
          "output_type": "stream",
          "text": [
            "[1000, 1001, 1005, 1008, 1010, 1015, 1020, 1022, 1025, 1029, 1030, 1035, 1036, 1040, 1043, 1045, 1050, 1055, 1057, 1060, 1064, 1065, 1070, 1071, 1075, 1078, 1080, 1085, 1090, 1092, 1095, 1099, 1100, 1105, 1106, 1110, 1113, 1115, 1120, 1125, 1127, 1130, 1134, 1135, 1140, 1141, 1145, 1148, 1150, 1155, 1160, 1162, 1165, 1169, 1170, 1175, 1176, 1180, 1183, 1185, 1190, 1195, 1197, 1200, 1204, 1205, 1210, 1211, 1215, 1218, 1220, 1225, 1230, 1232, 1235, 1239, 1240, 1245, 1246, 1250, 1253, 1255, 1260, 1265, 1267, 1270, 1274, 1275, 1280, 1281, 1285, 1288, 1290, 1295, 1300, 1302, 1305, 1309, 1310, 1315, 1316, 1320, 1323, 1325, 1330, 1335, 1337, 1340, 1344, 1345, 1350, 1351, 1355, 1358, 1360, 1365, 1370, 1372, 1375, 1379, 1380, 1385, 1386, 1390, 1393, 1395, 1400, 1405, 1407, 1410, 1414, 1415, 1420, 1421, 1425, 1428, 1430, 1435, 1440, 1442, 1445, 1449, 1450, 1455, 1456, 1460, 1463, 1465, 1470, 1475, 1477, 1480, 1484, 1485, 1490, 1491, 1495, 1498, 1500, 1505, 1510, 1512, 1515, 1519, 1520, 1525, 1526, 1530, 1533, 1535, 1540, 1545, 1547, 1550, 1554, 1555, 1560, 1561, 1565, 1568, 1570, 1575, 1580, 1582, 1585, 1589, 1590, 1595, 1596, 1600, 1603, 1605, 1610, 1615, 1617, 1620, 1624, 1625, 1630, 1631, 1635, 1638, 1640, 1645, 1650, 1652, 1655, 1659, 1660, 1665, 1666, 1670, 1673, 1675, 1680, 1685, 1687, 1690, 1694, 1695, 1700, 1701, 1705, 1708, 1710, 1715, 1720, 1722, 1725, 1729, 1730, 1735, 1736, 1740, 1743, 1745, 1750, 1755, 1757, 1760, 1764, 1765, 1770, 1771, 1775, 1778, 1780, 1785, 1790, 1792, 1795, 1799, 1800, 1805, 1806, 1810, 1813, 1815, 1820, 1825, 1827, 1830, 1834, 1835, 1840, 1841, 1845, 1848, 1850, 1855, 1860, 1862, 1865, 1869, 1870, 1875, 1876, 1880, 1883, 1885, 1890, 1895, 1897, 1900, 1904, 1905, 1910, 1911, 1915, 1918, 1920, 1925, 1930, 1932, 1935, 1939, 1940, 1945, 1946, 1950, 1953, 1955, 1960, 1965, 1967, 1970, 1974, 1975, 1980, 1981, 1985, 1988, 1990, 1995]\n"
          ],
          "name": "stdout"
        }
      ]
    },
    {
      "cell_type": "markdown",
      "metadata": {
        "id": "NpBtTalOC33x",
        "colab_type": "text"
      },
      "source": [
        "3.Add the n number of names in a list and print them alphabetically and reverse\n",
        "alphabetically."
      ]
    },
    {
      "cell_type": "code",
      "metadata": {
        "id": "NK-Qp5JTC3_g",
        "colab_type": "code",
        "colab": {
          "base_uri": "https://localhost:8080/",
          "height": 51
        },
        "outputId": "250c8b78-87e3-4f1d-cfc8-79fb227c76eb"
      },
      "source": [
        "l=['vikas','jagath','rohan','sathvik','madan']\n",
        "l=sorted(l)\n",
        "print(l)\n",
        "l=l[::-1]\n",
        "print(l)"
      ],
      "execution_count": 56,
      "outputs": [
        {
          "output_type": "stream",
          "text": [
            "['jagath', 'madan', 'rohan', 'sathvik', 'vikas']\n",
            "['vikas', 'sathvik', 'rohan', 'madan', 'jagath']\n"
          ],
          "name": "stdout"
        }
      ]
    },
    {
      "cell_type": "markdown",
      "metadata": {
        "id": "7nQf7Qw3DWoO",
        "colab_type": "text"
      },
      "source": [
        "4.Print perfect squares and divisible by 5 between 500 and 1000 (both inclusive)\n",
        "using list comprehension"
      ]
    },
    {
      "cell_type": "code",
      "metadata": {
        "id": "LfuFpqvsDWz2",
        "colab_type": "code",
        "colab": {
          "base_uri": "https://localhost:8080/",
          "height": 34
        },
        "outputId": "400f9700-76fd-4ad2-d9ed-ab8c134ae8d1"
      },
      "source": [
        "import math\n",
        "l=[x for x in range(499,1001) if (x%5==0 and ((math.sqrt(x)-math.floor(math.sqrt(x)))==0))]\n",
        "print(l)"
      ],
      "execution_count": 33,
      "outputs": [
        {
          "output_type": "stream",
          "text": [
            "[625, 900]\n"
          ],
          "name": "stdout"
        }
      ]
    },
    {
      "cell_type": "markdown",
      "metadata": {
        "id": "SHdyzfjwD0s3",
        "colab_type": "text"
      },
      "source": [
        "5.Calculate the Average of the numbers in a List by getting the elements of list from\n",
        "keyboard ."
      ]
    },
    {
      "cell_type": "code",
      "metadata": {
        "id": "7_x2a_YyD02c",
        "colab_type": "code",
        "colab": {
          "base_uri": "https://localhost:8080/",
          "height": 119
        },
        "outputId": "c68b0a4c-145b-4e17-811b-6b7f756c3664"
      },
      "source": [
        "l=[]\n",
        "n=int(input(\"Enter n value : \"))\n",
        "print(\"Enter the elements in the list:\")\n",
        "for x in range(n):\n",
        "  l.append(float(input()))\n",
        "  sum=sum+l[x]\n",
        "print(\"Average : \",sum/n)"
      ],
      "execution_count": 32,
      "outputs": [
        {
          "output_type": "stream",
          "text": [
            "Enter n value : 3\n",
            "Enter the elements in the list:\n",
            "2\n",
            "5\n",
            "8\n",
            "Average :  5.0\n"
          ],
          "name": "stdout"
        }
      ]
    },
    {
      "cell_type": "markdown",
      "metadata": {
        "id": "UsdwFTWdD5xP",
        "colab_type": "text"
      },
      "source": [
        "6.Print lists of odd,even and multiples of 5 numbers from 1 to 1000 using list\n",
        "comprehension"
      ]
    },
    {
      "cell_type": "code",
      "metadata": {
        "id": "IX3txmckD55w",
        "colab_type": "code",
        "colab": {
          "base_uri": "https://localhost:8080/",
          "height": 88
        },
        "outputId": "57f51039-3d6a-4ad0-a279-9e9eb8419881"
      },
      "source": [
        "l1,l2,l3=[],[],[]\n",
        "for x in range(1,1000):\n",
        "  if x%2==0:\n",
        "    l1.append(x)\n",
        "  if x%2==1:\n",
        "    l2.append(x)\n",
        "  if x%5==0:\n",
        "    l3.append(x)\n",
        "print(\"Even : {0}\\nOdd : {1}\\nMultiples of 5 : {2}\".format(l1,l2,l3))   \n",
        "\n"
      ],
      "execution_count": 38,
      "outputs": [
        {
          "output_type": "stream",
          "text": [
            "Even : [2, 4, 6, 8, 10, 12, 14, 16, 18, 20, 22, 24, 26, 28, 30, 32, 34, 36, 38, 40, 42, 44, 46, 48, 50, 52, 54, 56, 58, 60, 62, 64, 66, 68, 70, 72, 74, 76, 78, 80, 82, 84, 86, 88, 90, 92, 94, 96, 98, 100, 102, 104, 106, 108, 110, 112, 114, 116, 118, 120, 122, 124, 126, 128, 130, 132, 134, 136, 138, 140, 142, 144, 146, 148, 150, 152, 154, 156, 158, 160, 162, 164, 166, 168, 170, 172, 174, 176, 178, 180, 182, 184, 186, 188, 190, 192, 194, 196, 198, 200, 202, 204, 206, 208, 210, 212, 214, 216, 218, 220, 222, 224, 226, 228, 230, 232, 234, 236, 238, 240, 242, 244, 246, 248, 250, 252, 254, 256, 258, 260, 262, 264, 266, 268, 270, 272, 274, 276, 278, 280, 282, 284, 286, 288, 290, 292, 294, 296, 298, 300, 302, 304, 306, 308, 310, 312, 314, 316, 318, 320, 322, 324, 326, 328, 330, 332, 334, 336, 338, 340, 342, 344, 346, 348, 350, 352, 354, 356, 358, 360, 362, 364, 366, 368, 370, 372, 374, 376, 378, 380, 382, 384, 386, 388, 390, 392, 394, 396, 398, 400, 402, 404, 406, 408, 410, 412, 414, 416, 418, 420, 422, 424, 426, 428, 430, 432, 434, 436, 438, 440, 442, 444, 446, 448, 450, 452, 454, 456, 458, 460, 462, 464, 466, 468, 470, 472, 474, 476, 478, 480, 482, 484, 486, 488, 490, 492, 494, 496, 498, 500, 502, 504, 506, 508, 510, 512, 514, 516, 518, 520, 522, 524, 526, 528, 530, 532, 534, 536, 538, 540, 542, 544, 546, 548, 550, 552, 554, 556, 558, 560, 562, 564, 566, 568, 570, 572, 574, 576, 578, 580, 582, 584, 586, 588, 590, 592, 594, 596, 598, 600, 602, 604, 606, 608, 610, 612, 614, 616, 618, 620, 622, 624, 626, 628, 630, 632, 634, 636, 638, 640, 642, 644, 646, 648, 650, 652, 654, 656, 658, 660, 662, 664, 666, 668, 670, 672, 674, 676, 678, 680, 682, 684, 686, 688, 690, 692, 694, 696, 698, 700, 702, 704, 706, 708, 710, 712, 714, 716, 718, 720, 722, 724, 726, 728, 730, 732, 734, 736, 738, 740, 742, 744, 746, 748, 750, 752, 754, 756, 758, 760, 762, 764, 766, 768, 770, 772, 774, 776, 778, 780, 782, 784, 786, 788, 790, 792, 794, 796, 798, 800, 802, 804, 806, 808, 810, 812, 814, 816, 818, 820, 822, 824, 826, 828, 830, 832, 834, 836, 838, 840, 842, 844, 846, 848, 850, 852, 854, 856, 858, 860, 862, 864, 866, 868, 870, 872, 874, 876, 878, 880, 882, 884, 886, 888, 890, 892, 894, 896, 898, 900, 902, 904, 906, 908, 910, 912, 914, 916, 918, 920, 922, 924, 926, 928, 930, 932, 934, 936, 938, 940, 942, 944, 946, 948, 950, 952, 954, 956, 958, 960, 962, 964, 966, 968, 970, 972, 974, 976, 978, 980, 982, 984, 986, 988, 990, 992, 994, 996, 998]\n",
            "Odd : [1, 3, 5, 7, 9, 11, 13, 15, 17, 19, 21, 23, 25, 27, 29, 31, 33, 35, 37, 39, 41, 43, 45, 47, 49, 51, 53, 55, 57, 59, 61, 63, 65, 67, 69, 71, 73, 75, 77, 79, 81, 83, 85, 87, 89, 91, 93, 95, 97, 99, 101, 103, 105, 107, 109, 111, 113, 115, 117, 119, 121, 123, 125, 127, 129, 131, 133, 135, 137, 139, 141, 143, 145, 147, 149, 151, 153, 155, 157, 159, 161, 163, 165, 167, 169, 171, 173, 175, 177, 179, 181, 183, 185, 187, 189, 191, 193, 195, 197, 199, 201, 203, 205, 207, 209, 211, 213, 215, 217, 219, 221, 223, 225, 227, 229, 231, 233, 235, 237, 239, 241, 243, 245, 247, 249, 251, 253, 255, 257, 259, 261, 263, 265, 267, 269, 271, 273, 275, 277, 279, 281, 283, 285, 287, 289, 291, 293, 295, 297, 299, 301, 303, 305, 307, 309, 311, 313, 315, 317, 319, 321, 323, 325, 327, 329, 331, 333, 335, 337, 339, 341, 343, 345, 347, 349, 351, 353, 355, 357, 359, 361, 363, 365, 367, 369, 371, 373, 375, 377, 379, 381, 383, 385, 387, 389, 391, 393, 395, 397, 399, 401, 403, 405, 407, 409, 411, 413, 415, 417, 419, 421, 423, 425, 427, 429, 431, 433, 435, 437, 439, 441, 443, 445, 447, 449, 451, 453, 455, 457, 459, 461, 463, 465, 467, 469, 471, 473, 475, 477, 479, 481, 483, 485, 487, 489, 491, 493, 495, 497, 499, 501, 503, 505, 507, 509, 511, 513, 515, 517, 519, 521, 523, 525, 527, 529, 531, 533, 535, 537, 539, 541, 543, 545, 547, 549, 551, 553, 555, 557, 559, 561, 563, 565, 567, 569, 571, 573, 575, 577, 579, 581, 583, 585, 587, 589, 591, 593, 595, 597, 599, 601, 603, 605, 607, 609, 611, 613, 615, 617, 619, 621, 623, 625, 627, 629, 631, 633, 635, 637, 639, 641, 643, 645, 647, 649, 651, 653, 655, 657, 659, 661, 663, 665, 667, 669, 671, 673, 675, 677, 679, 681, 683, 685, 687, 689, 691, 693, 695, 697, 699, 701, 703, 705, 707, 709, 711, 713, 715, 717, 719, 721, 723, 725, 727, 729, 731, 733, 735, 737, 739, 741, 743, 745, 747, 749, 751, 753, 755, 757, 759, 761, 763, 765, 767, 769, 771, 773, 775, 777, 779, 781, 783, 785, 787, 789, 791, 793, 795, 797, 799, 801, 803, 805, 807, 809, 811, 813, 815, 817, 819, 821, 823, 825, 827, 829, 831, 833, 835, 837, 839, 841, 843, 845, 847, 849, 851, 853, 855, 857, 859, 861, 863, 865, 867, 869, 871, 873, 875, 877, 879, 881, 883, 885, 887, 889, 891, 893, 895, 897, 899, 901, 903, 905, 907, 909, 911, 913, 915, 917, 919, 921, 923, 925, 927, 929, 931, 933, 935, 937, 939, 941, 943, 945, 947, 949, 951, 953, 955, 957, 959, 961, 963, 965, 967, 969, 971, 973, 975, 977, 979, 981, 983, 985, 987, 989, 991, 993, 995, 997, 999]\n",
            "Multiples of 5 : [5, 10, 15, 20, 25, 30, 35, 40, 45, 50, 55, 60, 65, 70, 75, 80, 85, 90, 95, 100, 105, 110, 115, 120, 125, 130, 135, 140, 145, 150, 155, 160, 165, 170, 175, 180, 185, 190, 195, 200, 205, 210, 215, 220, 225, 230, 235, 240, 245, 250, 255, 260, 265, 270, 275, 280, 285, 290, 295, 300, 305, 310, 315, 320, 325, 330, 335, 340, 345, 350, 355, 360, 365, 370, 375, 380, 385, 390, 395, 400, 405, 410, 415, 420, 425, 430, 435, 440, 445, 450, 455, 460, 465, 470, 475, 480, 485, 490, 495, 500, 505, 510, 515, 520, 525, 530, 535, 540, 545, 550, 555, 560, 565, 570, 575, 580, 585, 590, 595, 600, 605, 610, 615, 620, 625, 630, 635, 640, 645, 650, 655, 660, 665, 670, 675, 680, 685, 690, 695, 700, 705, 710, 715, 720, 725, 730, 735, 740, 745, 750, 755, 760, 765, 770, 775, 780, 785, 790, 795, 800, 805, 810, 815, 820, 825, 830, 835, 840, 845, 850, 855, 860, 865, 870, 875, 880, 885, 890, 895, 900, 905, 910, 915, 920, 925, 930, 935, 940, 945, 950, 955, 960, 965, 970, 975, 980, 985, 990, 995]\n"
          ],
          "name": "stdout"
        }
      ]
    },
    {
      "cell_type": "markdown",
      "metadata": {
        "id": "X5R7ydEfEFiP",
        "colab_type": "text"
      },
      "source": [
        "#Tuples"
      ]
    },
    {
      "cell_type": "markdown",
      "metadata": {
        "id": "xNsansaENiSr",
        "colab_type": "text"
      },
      "source": [
        "1.Python Program to Create a List of Tuples with the First Element as the Number and Second\n",
        "Element as the Square of the Number"
      ]
    },
    {
      "cell_type": "code",
      "metadata": {
        "id": "3EaVWtMtNicg",
        "colab_type": "code",
        "colab": {
          "base_uri": "https://localhost:8080/",
          "height": 34
        },
        "outputId": "c2cc21c6-de37-45c1-99e0-e583a3257470"
      },
      "source": [
        "r = [(x, pow(x, 2)) for x in range(10)]  \n",
        "print(r)"
      ],
      "execution_count": 41,
      "outputs": [
        {
          "output_type": "stream",
          "text": [
            "[(0, 0), (1, 1), (2, 4), (3, 9), (4, 16), (5, 25), (6, 36), (7, 49), (8, 64), (9, 81)]\n"
          ],
          "name": "stdout"
        }
      ]
    },
    {
      "cell_type": "markdown",
      "metadata": {
        "id": "qKOO9cBtPhIq",
        "colab_type": "text"
      },
      "source": [
        "2.Write python program to have a list of words to sort them from shortest to longest using list of\n",
        "tuples"
      ]
    },
    {
      "cell_type": "code",
      "metadata": {
        "id": "Y-E-c4nIPhRp",
        "colab_type": "code",
        "colab": {
          "base_uri": "https://localhost:8080/",
          "height": 34
        },
        "outputId": "ea6f2178-e5d4-47b0-facd-72f1ee714c16"
      },
      "source": [
        "l=['hey','hello','bello','corona','hi','php']\n",
        "t = list()\n",
        "r = list()\n",
        "for x in l:\n",
        "  t.append((len(x), x))\n",
        "  t.sort()\n",
        "for length, x in t:\n",
        "  r.append(x)\n",
        "print(r)"
      ],
      "execution_count": 48,
      "outputs": [
        {
          "output_type": "stream",
          "text": [
            "['hi', 'hey', 'php', 'bello', 'hello', 'corona']\n"
          ],
          "name": "stdout"
        }
      ]
    },
    {
      "cell_type": "markdown",
      "metadata": {
        "id": "OzCBSfxZPkjI",
        "colab_type": "text"
      },
      "source": [
        "3.Write python program to get a list of tuples of Rollno,Name for 5 students through keyboard and\n",
        "sort them Rollno wise ascending order"
      ]
    },
    {
      "cell_type": "code",
      "metadata": {
        "id": "MLCoPBT7Pkq4",
        "colab_type": "code",
        "colab": {
          "base_uri": "https://localhost:8080/",
          "height": 204
        },
        "outputId": "3bb3ffdb-f2a2-4ec2-a21e-dbfc721b3826"
      },
      "source": [
        "t=list()\n",
        "l=[(t.append((input(\"Enter Roll no:\"),input(\"Enter Name : \")))) for x in range(5)]\n",
        "t.sort()\n",
        "print(t)"
      ],
      "execution_count": 50,
      "outputs": [
        {
          "output_type": "stream",
          "text": [
            "Enter Roll no:101\n",
            "Enter Name : Ramesh\n",
            "Enter Roll no:105\n",
            "Enter Name : Suresh\n",
            "Enter Roll no:106\n",
            "Enter Name : Naresh\n",
            "Enter Roll no:103\n",
            "Enter Name : Jignesh\n",
            "Enter Roll no:108\n",
            "Enter Name : Mahesh\n",
            "[('101', 'Ramesh'), ('103', 'Jignesh'), ('105', 'Suresh'), ('106', 'Naresh'), ('108', 'Mahesh')]\n"
          ],
          "name": "stdout"
        }
      ]
    },
    {
      "cell_type": "markdown",
      "metadata": {
        "id": "m0OpqALRPoEY",
        "colab_type": "text"
      },
      "source": [
        "4.Write python program to get a list of tuples of Rollno,Name for 5 students through keyboard and\n",
        "sort them by Rollno wise descending order"
      ]
    },
    {
      "cell_type": "code",
      "metadata": {
        "id": "4nTTqFwoPoLY",
        "colab_type": "code",
        "colab": {
          "base_uri": "https://localhost:8080/",
          "height": 204
        },
        "outputId": "18241e36-542f-4b20-caf4-6756f2e79d68"
      },
      "source": [
        "t=list()\n",
        "l=[(t.append((input(\"Enter Roll no:\"),input(\"Enter Name : \")))) for x in range(5)]\n",
        "t.sort(reverse=True)\n",
        "print(t)"
      ],
      "execution_count": 51,
      "outputs": [
        {
          "output_type": "stream",
          "text": [
            "Enter Roll no:106\n",
            "Enter Name : Ramesh\n",
            "Enter Roll no:103\n",
            "Enter Name : Jignesh\n",
            "Enter Roll no:102\n",
            "Enter Name : Suresh\n",
            "Enter Roll no:108\n",
            "Enter Name : Naresh\n",
            "Enter Roll no:110\n",
            "Enter Name : Lokesh\n",
            "[('110', 'Lokesh'), ('108', 'Naresh'), ('106', 'Ramesh'), ('103', 'Jignesh'), ('102', 'Suresh')]\n"
          ],
          "name": "stdout"
        }
      ]
    },
    {
      "cell_type": "markdown",
      "metadata": {
        "id": "JhN4djO_PqUg",
        "colab_type": "text"
      },
      "source": [
        "5.Write python program to get a list of tuples of Rollno,Name for 5 students through keyboard and\n",
        "sort them by Name wise ascending order"
      ]
    },
    {
      "cell_type": "code",
      "metadata": {
        "id": "y-18TfR8PqcI",
        "colab_type": "code",
        "colab": {
          "base_uri": "https://localhost:8080/",
          "height": 204
        },
        "outputId": "19b278d5-e419-4a90-da85-8fe5cccfc93f"
      },
      "source": [
        "t=list()\n",
        "l=[(t.append((input(\"Enter Name : \"),input(\"Enter Roll no:\")))) for x in range(5)]\n",
        "t.sort()\n",
        "print(t)"
      ],
      "execution_count": 52,
      "outputs": [
        {
          "output_type": "stream",
          "text": [
            "Enter Name : Ronny\n",
            "Enter Roll no:103\n",
            "Enter Name : Bunny\n",
            "Enter Roll no:105\n",
            "Enter Name : Sunny\n",
            "Enter Roll no:123\n",
            "Enter Name : Tonny\n",
            "Enter Roll no:108\n",
            "Enter Name : Danny\n",
            "Enter Roll no:106\n",
            "[('Bunny', '105'), ('Danny', '106'), ('Ronny', '103'), ('Sunny', '123'), ('Tonny', '108')]\n"
          ],
          "name": "stdout"
        }
      ]
    },
    {
      "cell_type": "markdown",
      "metadata": {
        "id": "rMCw_w5fPswA",
        "colab_type": "text"
      },
      "source": [
        "6.Write python program to get a list of tuples of Rollno,Name for 5 students through keyboard and\n",
        "sort them by Name wise descending order"
      ]
    },
    {
      "cell_type": "code",
      "metadata": {
        "id": "tUjCYUt-Ps6g",
        "colab_type": "code",
        "colab": {
          "base_uri": "https://localhost:8080/",
          "height": 204
        },
        "outputId": "1d7ee391-c8e6-448a-afa7-ce11fcf33e5c"
      },
      "source": [
        "t=list()\n",
        "l=[(t.append((input(\"Enter Name : \"),input(\"Enter Roll no:\")))) for x in range(5)]\n",
        "t.sort(reverse=True)\n",
        "print(t)"
      ],
      "execution_count": 53,
      "outputs": [
        {
          "output_type": "stream",
          "text": [
            "Enter Name : Hudaif\n",
            "Enter Roll no:104\n",
            "Enter Name : Kaif\n",
            "Enter Roll no:109\n",
            "Enter Name : Saif\n",
            "Enter Roll no:111\n",
            "Enter Name : Ruvef\n",
            "Enter Roll no:118\n",
            "Enter Name : Taif\n",
            "Enter Roll no:115\n",
            "[('Taif', '115'), ('Saif', '111'), ('Ruvef', '118'), ('Kaif', '109'), ('Hudaif', '104')]\n"
          ],
          "name": "stdout"
        }
      ]
    }
  ]
}