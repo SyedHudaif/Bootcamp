{
  "nbformat": 4,
  "nbformat_minor": 0,
  "metadata": {
    "colab": {
      "name": "Python_Day1_Session2_Exercise.ipynb",
      "provenance": [],
      "collapsed_sections": [],
      "authorship_tag": "ABX9TyMtGdyeTRG8f8erC5XpkqNE",
      "include_colab_link": true
    },
    "kernelspec": {
      "name": "python3",
      "display_name": "Python 3"
    }
  },
  "cells": [
    {
      "cell_type": "markdown",
      "metadata": {
        "id": "view-in-github",
        "colab_type": "text"
      },
      "source": [
        "<a href=\"https://colab.research.google.com/github/SyedHudaif/Bootcamp/blob/master/Day1/Session2/Python_Day1_Session2_Exercise.ipynb\" target=\"_parent\"><img src=\"https://colab.research.google.com/assets/colab-badge.svg\" alt=\"Open In Colab\"/></a>"
      ]
    },
    {
      "cell_type": "markdown",
      "metadata": {
        "id": "w7_Q3QrzQgAN",
        "colab_type": "text"
      },
      "source": [
        "Write a program to print the triangle\n"
      ]
    },
    {
      "cell_type": "code",
      "metadata": {
        "id": "gQ0k7zzfQx0-",
        "colab_type": "code",
        "colab": {
          "base_uri": "https://localhost:8080/",
          "height": 104
        },
        "outputId": "75cd0e47-a4f4-44ba-a382-b1b7c0a4ecdc"
      },
      "source": [
        "n=int(input(\"Enter n value \"))\n",
        "for i in range(1,n+1):\n",
        "  for j in range(i,i+i):\n",
        "    print(j,end=\" \")\n",
        "  print(\"\")    "
      ],
      "execution_count": 12,
      "outputs": [
        {
          "output_type": "stream",
          "text": [
            "Enter n value 4\n",
            "1 \n",
            "2 3 \n",
            "3 4 5 \n",
            "4 5 6 7 \n"
          ],
          "name": "stdout"
        }
      ]
    },
    {
      "cell_type": "code",
      "metadata": {
        "id": "2e5h-oaKUQci",
        "colab_type": "code",
        "colab": {
          "base_uri": "https://localhost:8080/",
          "height": 104
        },
        "outputId": "2d99e81b-9a1d-4887-f75d-7a61277b2068"
      },
      "source": [
        "n=int(input(\"Enter n value \"))\n",
        "for i in range(1,n+1):\n",
        "  for j in range(i,i+i):\n",
        "    print(\"*\",end=\" \")\n",
        "  print(\"\")"
      ],
      "execution_count": 13,
      "outputs": [
        {
          "output_type": "stream",
          "text": [
            "Enter n value 4\n",
            "* \n",
            "* * \n",
            "* * * \n",
            "* * * * \n"
          ],
          "name": "stdout"
        }
      ]
    },
    {
      "cell_type": "code",
      "metadata": {
        "id": "hX_KfCy9UgZ7",
        "colab_type": "code",
        "colab": {
          "base_uri": "https://localhost:8080/",
          "height": 121
        },
        "outputId": "7329d752-b91d-4f82-cd4a-b0496c6288ea"
      },
      "source": [
        "n=int(input(\"Enter n value \"))\n",
        "for i in range(n,0,-1):\n",
        "  for j in range(i,n+1):\n",
        "    print(j,end=\" \")\n",
        "  print(\"\")"
      ],
      "execution_count": 19,
      "outputs": [
        {
          "output_type": "stream",
          "text": [
            "Enter n value 5\n",
            "5 \n",
            "4 5 \n",
            "3 4 5 \n",
            "2 3 4 5 \n",
            "1 2 3 4 5 \n"
          ],
          "name": "stdout"
        }
      ]
    },
    {
      "cell_type": "code",
      "metadata": {
        "id": "_H_VvASCWcSN",
        "colab_type": "code",
        "colab": {
          "base_uri": "https://localhost:8080/",
          "height": 121
        },
        "outputId": "25472db4-c442-4208-a9c6-1a3a76ae2ab2"
      },
      "source": [
        "n=int(input(\"Enter n value \"))\n",
        "for i in range(n,0,-1):\n",
        "  for j in range(i,0,-1):\n",
        "    print(j,end=\" \")\n",
        "  print(\"\")"
      ],
      "execution_count": 20,
      "outputs": [
        {
          "output_type": "stream",
          "text": [
            "Enter n value 5\n",
            "5 4 3 2 1 \n",
            "4 3 2 1 \n",
            "3 2 1 \n",
            "2 1 \n",
            "1 \n"
          ],
          "name": "stdout"
        }
      ]
    },
    {
      "cell_type": "code",
      "metadata": {
        "id": "oKnsNq6OWpvm",
        "colab_type": "code",
        "colab": {
          "base_uri": "https://localhost:8080/",
          "height": 156
        },
        "outputId": "d3916e2f-8480-448d-b978-c508820c52a3"
      },
      "source": [
        "n=int(input(\"Enter n value \"))\n",
        "for i in range(1,n+1):\n",
        "  for j in range(i,n+1):\n",
        "    print(j,end=\" \")\n",
        "  print(\"\")\n",
        "for i in range(n-1,0,-1):\n",
        "  for j in range(i,n+1):\n",
        "    print(j,end=\" \")\n",
        "  print(\"\")"
      ],
      "execution_count": 22,
      "outputs": [
        {
          "output_type": "stream",
          "text": [
            "Enter n value 4\n",
            "1 2 3 4 \n",
            "2 3 4 \n",
            "3 4 \n",
            "4 \n",
            "3 4 \n",
            "2 3 4 \n",
            "1 2 3 4 \n"
          ],
          "name": "stdout"
        }
      ]
    },
    {
      "cell_type": "markdown",
      "metadata": {
        "id": "oEIOVJqjX4ND",
        "colab_type": "text"
      },
      "source": [
        "Find the length of a string without using len functions"
      ]
    },
    {
      "cell_type": "code",
      "metadata": {
        "id": "IJMk0DvsX4cj",
        "colab_type": "code",
        "colab": {
          "base_uri": "https://localhost:8080/",
          "height": 52
        },
        "outputId": "1b262439-fff5-4568-a7ed-6748e18d2e32"
      },
      "source": [
        "s=input(\"Enter the string : \")\n",
        "c=0;\n",
        "for i in s:\n",
        "  c=c+1\n",
        "print(c)  "
      ],
      "execution_count": 29,
      "outputs": [
        {
          "output_type": "stream",
          "text": [
            "Enter the string : Corona Virus\n",
            "12\n"
          ],
          "name": "stdout"
        }
      ]
    },
    {
      "cell_type": "markdown",
      "metadata": {
        "id": "g8BVUfA2Yueh",
        "colab_type": "text"
      },
      "source": [
        "Find the no of words and characters in a string"
      ]
    },
    {
      "cell_type": "code",
      "metadata": {
        "id": "7VRvawiMYukU",
        "colab_type": "code",
        "colab": {
          "base_uri": "https://localhost:8080/",
          "height": 69
        },
        "outputId": "ac7ce292-4e80-4e47-d7f1-d1550c8ff0e8"
      },
      "source": [
        "s=input(\"Enter the string : \").split()\n",
        "c=0\n",
        "w=0\n",
        "for i in s:\n",
        "  w=w+1\n",
        "  for j in i:\n",
        "    c=c+1\n",
        "print(\"Number of words : {0} \\nNumber of Characters : {1}\".format(w,c+w-1) )    "
      ],
      "execution_count": 33,
      "outputs": [
        {
          "output_type": "stream",
          "text": [
            "Enter the string : Corona Go, Go Corona\n",
            "Number of words : 4 \n",
            "Number of Characters : 20\n"
          ],
          "name": "stdout"
        }
      ]
    },
    {
      "cell_type": "markdown",
      "metadata": {
        "id": "m07FmsD2ai5F",
        "colab_type": "text"
      },
      "source": [
        "Find the no of occurrences of a word in a string"
      ]
    },
    {
      "cell_type": "code",
      "metadata": {
        "id": "9RMx6T_2coWd",
        "colab_type": "code",
        "colab": {}
      },
      "source": [
        ""
      ],
      "execution_count": null,
      "outputs": []
    },
    {
      "cell_type": "code",
      "metadata": {
        "id": "M_esOig-ajEK",
        "colab_type": "code",
        "colab": {
          "base_uri": "https://localhost:8080/",
          "height": 191
        },
        "outputId": "fbc881a2-95e8-4bf4-97e9-d7cae24540ef"
      },
      "source": [
        "import numpy as n\n",
        "s=input(\"Enter the string : \").split()\n",
        "m=n.unique(s)\n",
        "for i in m:\n",
        "  print(i,\":\",s.count(i))\n"
      ],
      "execution_count": 36,
      "outputs": [
        {
          "output_type": "stream",
          "text": [
            "Enter the string : Find the the no of occurrences of of a word in a string\n",
            "Find : 1\n",
            "a : 2\n",
            "in : 1\n",
            "no : 1\n",
            "occurrences : 1\n",
            "of : 3\n",
            "string : 1\n",
            "the : 2\n",
            "word : 1\n"
          ],
          "name": "stdout"
        }
      ]
    }
  ]
}