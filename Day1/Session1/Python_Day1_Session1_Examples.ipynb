{
  "nbformat": 4,
  "nbformat_minor": 0,
  "metadata": {
    "colab": {
      "name": "Python_Day1_Session1_Examples.ipynb",
      "provenance": [],
      "collapsed_sections": [],
      "authorship_tag": "ABX9TyOIB1eUqcutB6hTcS/89EQh",
      "include_colab_link": true
    },
    "kernelspec": {
      "name": "python3",
      "display_name": "Python 3"
    }
  },
  "cells": [
    {
      "cell_type": "markdown",
      "metadata": {
        "id": "view-in-github",
        "colab_type": "text"
      },
      "source": [
        "<a href=\"https://colab.research.google.com/github/SyedHudaif/Bootcamp/blob/master/Day1/Session1/Python_Day1_Session1_Examples.ipynb\" target=\"_parent\"><img src=\"https://colab.research.google.com/assets/colab-badge.svg\" alt=\"Open In Colab\"/></a>"
      ]
    },
    {
      "cell_type": "code",
      "metadata": {
        "id": "VWeBdGQUeenm",
        "colab_type": "code",
        "colab": {
          "base_uri": "https://localhost:8080/",
          "height": 69
        },
        "outputId": "e42113d8-2dca-4ff7-8cf6-99ceb85a71f9"
      },
      "source": [
        "# sum of two nos\n",
        "num1 = int(input(\"Enter first no\"))\n",
        "num2 = int(input(\"Enter second no\"))\n",
        "# Adding the two numbers\n",
        "sum = num1 + num2\n",
        "# Display the sum\n",
        "print('The sum of {0} and {1} is {2}'.format(num1, num2, sum))"
      ],
      "execution_count": null,
      "outputs": [
        {
          "output_type": "stream",
          "text": [
            "Enter first no8\n",
            "Enter second no5\n",
            "The sum of 8 and 5 is 13\n"
          ],
          "name": "stdout"
        }
      ]
    },
    {
      "cell_type": "markdown",
      "metadata": {
        "id": "PlusdG-memAO",
        "colab_type": "text"
      },
      "source": [
        "Python program to check if the input year is a leap year or not"
      ]
    },
    {
      "cell_type": "code",
      "metadata": {
        "id": "Sy3BXjfYelJ-",
        "colab_type": "code",
        "colab": {
          "base_uri": "https://localhost:8080/",
          "height": 52
        },
        "outputId": "75cdf409-e128-4fbd-b032-f24655c78a05"
      },
      "source": [
        "# To get year (integer input) from the user\n",
        "year = int(input(\"Enter a year: \"))\n",
        "if ((year % 4) == 0 and (year % 100) != 0) or ((year % 400) == 0):\n",
        "  print(\"{0} is a leap year\".format(year))\n",
        "else:\n",
        "  print(\"{0} is not a leap year\".format(year))"
      ],
      "execution_count": null,
      "outputs": [
        {
          "output_type": "stream",
          "text": [
            "Enter a year: 1999\n",
            "1999 is not a leap year\n"
          ],
          "name": "stdout"
        }
      ]
    },
    {
      "cell_type": "markdown",
      "metadata": {
        "id": "4VKCm-sBfBF5",
        "colab_type": "text"
      },
      "source": [
        "Python Program to Generate a Random Number"
      ]
    },
    {
      "cell_type": "code",
      "metadata": {
        "id": "fb133UrnfFKl",
        "colab_type": "code",
        "colab": {
          "base_uri": "https://localhost:8080/",
          "height": 34
        },
        "outputId": "0d650c74-752c-4e4e-c3b0-cc1884cb14dc"
      },
      "source": [
        "# Program to generate a random number between 0 and 9\n",
        "# import the random module\n",
        "import random\n",
        "print(random.randint(0,9))"
      ],
      "execution_count": null,
      "outputs": [
        {
          "output_type": "stream",
          "text": [
            "3\n"
          ],
          "name": "stdout"
        }
      ]
    },
    {
      "cell_type": "markdown",
      "metadata": {
        "id": "_Q5LZbBhfHhe",
        "colab_type": "text"
      },
      "source": [
        "Python Program to Convert Kilometers to Miles"
      ]
    },
    {
      "cell_type": "code",
      "metadata": {
        "id": "473iG5Uegq3V",
        "colab_type": "code",
        "colab": {}
      },
      "source": [
        "To take kilometers from the user, uncomment the code below\n",
        "\n",
        "kilometers = int(input(\"Enter value in kilometers\"))\n",
        "conversion factor\n",
        "\n",
        "conv_fac = 0.621371\n",
        "calculate miles\n",
        "\n",
        "miles = kilometers * conv_fac print('%0.3f kilometers is equal to %0.3f miles' %(kilometers,miles))"
      ],
      "execution_count": null,
      "outputs": []
    },
    {
      "cell_type": "markdown",
      "metadata": {
        "id": "uyDLrhdEfOUO",
        "colab_type": "text"
      },
      "source": [
        "Python Program to Solve Quadratic Equation"
      ]
    },
    {
      "cell_type": "code",
      "metadata": {
        "id": "0ivly-iSfP1t",
        "colab_type": "code",
        "colab": {
          "base_uri": "https://localhost:8080/",
          "height": 86
        },
        "outputId": "a62d3167-3168-4f6f-dc35-803dd22a7053"
      },
      "source": [
        "# Solve the quadratic equation ax**2 + bx + c = 0\n",
        "# importing complex math module\n",
        "import cmath\n",
        "# To take coefficient input from the users\n",
        "a = float(input('Enter a: '))\n",
        "b = float(input('Enter b: '))\n",
        "c = float(input('Enter c: '))\n",
        "# calculate the discriminant\n",
        "d = (b**2) - (4*a*c)\n",
        "# find two solutions\n",
        "sol1 = (-b-cmath.sqrt(d))/(2*a)\n",
        "sol2 = (-b+cmath.sqrt(d))/(2*a)\n",
        "print('The solution are {0} and {1}'.format(sol1,sol2))"
      ],
      "execution_count": null,
      "outputs": [
        {
          "output_type": "stream",
          "text": [
            "Enter a: 2\n",
            "Enter b: 5\n",
            "Enter c: 8\n",
            "The solution are (-1.25-1.5612494995995996j) and (-1.25+1.5612494995995996j)\n"
          ],
          "name": "stdout"
        }
      ]
    },
    {
      "cell_type": "markdown",
      "metadata": {
        "id": "7N4p52jLfUd8",
        "colab_type": "text"
      },
      "source": [
        "Python Program to find prime or not using function"
      ]
    },
    {
      "cell_type": "code",
      "metadata": {
        "id": "ZtyYtKYtfWJN",
        "colab_type": "code",
        "colab": {
          "base_uri": "https://localhost:8080/",
          "height": 52
        },
        "outputId": "7c2c9712-8e43-4b24-ab0b-d7ac8ea111c1"
      },
      "source": [
        "def test_prime(n):\n",
        "  if (n==1):\n",
        "    return False\n",
        "  elif (n==2):\n",
        "    return True;\n",
        "  else:\n",
        "    for x in range(2,n):\n",
        "      if(n % x==0):\n",
        "        return False\n",
        "  return True\n",
        "no=int(input(\"Enter the number\"))\n",
        "if (test_prime(no)) is True :\n",
        "  print(\" {0} is a prime no\".format(no))\n",
        "else:\n",
        "  print(\" {0} is not a prime no\".format(no))"
      ],
      "execution_count": null,
      "outputs": [
        {
          "output_type": "stream",
          "text": [
            "Enter the number7\n",
            " 7 is a prime no\n"
          ],
          "name": "stdout"
        }
      ]
    },
    {
      "cell_type": "markdown",
      "metadata": {
        "id": "oTfP2kfzfkqV",
        "colab_type": "text"
      },
      "source": [
        "\"\"\"Calculator program\"\"\""
      ]
    },
    {
      "cell_type": "code",
      "metadata": {
        "id": "5h8LWjiFgRh-",
        "colab_type": "code",
        "colab": {
          "base_uri": "https://localhost:8080/",
          "height": 1000
        },
        "outputId": "7bc64936-1e99-4b4d-8a07-116c027531dd"
      },
      "source": [
        "#----Calculator program-----\n",
        "loop = 1 # 1 means loop; anything else means don&#39;t loop.\n",
        "choice = 0 # This variable holds the user&#39;s choice in the menu\n",
        "def add(a,b):\n",
        "  return a+b\n",
        "def sub(a,b):\n",
        "  return a-b\n",
        "def mul(a,b):\n",
        "  return a*b\n",
        "def div(a,b):\n",
        "  return a/b\n",
        "while loop == 1:\n",
        "# Print what options you have\n",
        "  print (\"Welcome to calculator.py\")\n",
        "  print (\"your options are:\")\n",
        "  print (\" \")\n",
        "  print(\"1) Addition\")\n",
        "  print(\"2) Subtraction\")\n",
        "  print(\"3) Multiplication\")\n",
        "  print(\"4) Division\")\n",
        "  print(\"5) Quit calculator.py\")\n",
        "  print(\" \")\n",
        "  try:\n",
        "    choice = int(input(\"Choose your option:\"))\n",
        "  except:\n",
        "    print(\"please enter a valid number for option\")\n",
        "  print(\" \")\n",
        "  print(\" \")\n",
        "  if choice == 1:\n",
        "    x = int(input(\"Enter 1st no:\"))\n",
        "    y = int(input(\"Enter 2nd no:\"))\n",
        "    print(\"The answer is \",add(x,y))\n",
        "  elif choice == 2:\n",
        "    x = int(input(\"Enter 1st no:\"))\n",
        "    y = int(input(\"Enter 2nd no:\"))\n",
        "    print(\"The answer is \",sub(x,y))\n",
        "  elif choice == 3:\n",
        "    x = int(input(\"Enter 1st no:\"))\n",
        "    y = int(input(\"Enter 2nd no:\"))\n",
        "    print(\"answer is \",mul(x,y))\n",
        "  elif choice == 4:\n",
        "    x = int(input(\"Enter 1st no:\"))\n",
        "    y = int(input(\"Enter 2nd no:\"))\n",
        "    print(\"answer is \",div(x,y))\n",
        "  elif choice == 5:\n",
        "    loop = 0\n",
        "  else:\n",
        "    print(\"please choice a valid option from 1 to 5\")\n",
        "    choice=0\n",
        "print (\"Thank-you for using calculator.py!..\")"
      ],
      "execution_count": 2,
      "outputs": [
        {
          "output_type": "stream",
          "text": [
            "Welcome to calculator.py\n",
            "your options are:\n",
            " \n",
            "1) Addition\n",
            "2) Subtraction\n",
            "3) Multiplication\n",
            "4) Division\n",
            "5) Quit calculator.py\n",
            " \n",
            "Choose your option:6\n",
            " \n",
            " \n",
            "please choice a valid option from 1 to 5\n",
            "Welcome to calculator.py\n",
            "your options are:\n",
            " \n",
            "1) Addition\n",
            "2) Subtraction\n",
            "3) Multiplication\n",
            "4) Division\n",
            "5) Quit calculator.py\n",
            " \n",
            "Choose your option:1\n",
            " \n",
            " \n",
            "Enter 1st no:8\n",
            "Enter 2nd no:9\n",
            "The answer is  17\n",
            "Welcome to calculator.py\n",
            "your options are:\n",
            " \n",
            "1) Addition\n",
            "2) Subtraction\n",
            "3) Multiplication\n",
            "4) Division\n",
            "5) Quit calculator.py\n",
            " \n",
            "Choose your option:2\n",
            " \n",
            " \n",
            "Enter 1st no:8\n",
            "Enter 2nd no:6\n",
            "The answer is  2\n",
            "Welcome to calculator.py\n",
            "your options are:\n",
            " \n",
            "1) Addition\n",
            "2) Subtraction\n",
            "3) Multiplication\n",
            "4) Division\n",
            "5) Quit calculator.py\n",
            " \n",
            "Choose your option:3\n",
            " \n",
            " \n",
            "Enter 1st no:8\n",
            "Enter 2nd no:5\n",
            "answer is  40\n",
            "Welcome to calculator.py\n",
            "your options are:\n",
            " \n",
            "1) Addition\n",
            "2) Subtraction\n",
            "3) Multiplication\n",
            "4) Division\n",
            "5) Quit calculator.py\n",
            " \n",
            "Choose your option:4\n",
            " \n",
            " \n",
            "Enter 1st no:81\n",
            "Enter 2nd no:3\n",
            "answer is  27.0\n",
            "Welcome to calculator.py\n",
            "your options are:\n",
            " \n",
            "1) Addition\n",
            "2) Subtraction\n",
            "3) Multiplication\n",
            "4) Division\n",
            "5) Quit calculator.py\n",
            " \n",
            "Choose your option:5\n",
            " \n",
            " \n",
            "Thank-you for using calculator.py!..\n"
          ],
          "name": "stdout"
        }
      ]
    }
  ]
}