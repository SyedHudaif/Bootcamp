{
  "nbformat": 4,
  "nbformat_minor": 0,
  "metadata": {
    "colab": {
      "name": "Python_Day1_Session1_Excersize.ipynb",
      "provenance": [],
      "collapsed_sections": [],
      "authorship_tag": "ABX9TyNtItuJAZEcbciAuFlRjla2",
      "include_colab_link": true
    },
    "kernelspec": {
      "name": "python3",
      "display_name": "Python 3"
    }
  },
  "cells": [
    {
      "cell_type": "markdown",
      "metadata": {
        "id": "view-in-github",
        "colab_type": "text"
      },
      "source": [
        "<a href=\"https://colab.research.google.com/github/SyedHudaif/Bootcamp/blob/master/Day1/Session1/Python_Day1_Session1_Excersize.ipynb\" target=\"_parent\"><img src=\"https://colab.research.google.com/assets/colab-badge.svg\" alt=\"Open In Colab\"/></a>"
      ]
    },
    {
      "cell_type": "markdown",
      "metadata": {
        "id": "iE4UEz22hhy_",
        "colab_type": "text"
      },
      "source": [
        "Find the compound interest for the given p,n,r (formula : p(1+n*r/100) n )"
      ]
    },
    {
      "cell_type": "code",
      "metadata": {
        "id": "L_Z05nTghyi9",
        "colab_type": "code",
        "colab": {
          "base_uri": "https://localhost:8080/",
          "height": 86
        },
        "outputId": "bb5f750d-7f53-4b14-f6ab-7350a382fb1d"
      },
      "source": [
        "p=float(input(\"Enter the principle value:\"))\n",
        "n=float(input(\"Enter the number of times interest applied per time period \"))\n",
        "r=float(input(\"Enter the rate of interest\"))\n",
        "f=p*(1+n*r/100)**n\n",
        "print(\"Compound interest : {0}\".format(f))"
      ],
      "execution_count": null,
      "outputs": [
        {
          "output_type": "stream",
          "text": [
            "Enter the principle value:1000\n",
            "Enter the number of times interest applied per time period 5\n",
            "Enter the rate of interest8\n",
            "Compound interest : 5378.239999999998\n"
          ],
          "name": "stdout"
        }
      ]
    },
    {
      "cell_type": "markdown",
      "metadata": {
        "id": "tdrqVDHphjoX",
        "colab_type": "text"
      },
      "source": [
        "Convert centigrade to farenheit ( f= 9/5*c+32)"
      ]
    },
    {
      "cell_type": "code",
      "metadata": {
        "id": "R15xVlL1jxXd",
        "colab_type": "code",
        "colab": {
          "base_uri": "https://localhost:8080/",
          "height": 52
        },
        "outputId": "1e279b24-702c-4a12-c11c-7cbc24b6a52b"
      },
      "source": [
        "c=float(input(\"Enter the temperature value in centigrade \"))\n",
        "f= 9/5*c+32\n",
        "print(\"Converted Value : {0} F\".format(f))"
      ],
      "execution_count": null,
      "outputs": [
        {
          "output_type": "stream",
          "text": [
            "Enter the temperature value in centigrade 35\n",
            "Converted Value : 95.0 F\n"
          ],
          "name": "stdout"
        }
      ]
    },
    {
      "cell_type": "markdown",
      "metadata": {
        "id": "8_RrQDEVldg7",
        "colab_type": "text"
      },
      "source": [
        "Find the greater of two nos"
      ]
    },
    {
      "cell_type": "code",
      "metadata": {
        "id": "JYi1zwVSleP4",
        "colab_type": "code",
        "colab": {
          "base_uri": "https://localhost:8080/",
          "height": 52
        },
        "outputId": "62f49941-83c5-4116-d0e6-8445c1eb9bad"
      },
      "source": [
        "x, y = map(int,input(\"Enter a two numbers: \").split()) \n",
        "if x>y:\n",
        "  print(\"{0} is Greater\".format(x))\n",
        "else:\n",
        "  print(\"{0} is Greater\".format(y))\n",
        "\n",
        " "
      ],
      "execution_count": 17,
      "outputs": [
        {
          "output_type": "stream",
          "text": [
            "Enter a two numbers: 9 56\n",
            "56 is Greater\n"
          ],
          "name": "stdout"
        }
      ]
    },
    {
      "cell_type": "markdown",
      "metadata": {
        "id": "dPlGDegIoK8h",
        "colab_type": "text"
      },
      "source": [
        "Write a program for finding surface areas of cylinder and cone (2*PI*r*r*h,\n",
        "1/3*PI*r*r*h) using function."
      ]
    },
    {
      "cell_type": "code",
      "metadata": {
        "id": "CYU_SV4Do4nR",
        "colab_type": "code",
        "colab": {
          "base_uri": "https://localhost:8080/",
          "height": 86
        },
        "outputId": "83c915ed-4da3-4049-9b3c-20cb6a83c114"
      },
      "source": [
        "import math\n",
        "r,h = map(float,input(\"Enter the radius and height of cylinder: \").split())\n",
        "r1,h1=map(float,input(\"Enter the radius and height of cone: \").split())\n",
        "a=2*math.pi*r*r*h\n",
        "a1=1/3*math.pi*r1*r1*h \n",
        "print(\"Area of Cylinder = {0} \\n Area of Cone = {1}\".format(a,a1))"
      ],
      "execution_count": 20,
      "outputs": [
        {
          "output_type": "stream",
          "text": [
            "Enter the radius and height of cylinder: 2 4\n",
            "Enter the radius and height of cone: 3 5\n",
            "Area of Cylinder = 100.53096491487338 \n",
            " Area of Cone = 37.69911184307752\n"
          ],
          "name": "stdout"
        }
      ]
    },
    {
      "cell_type": "markdown",
      "metadata": {
        "id": "rALkdiA4sNMl",
        "colab_type": "text"
      },
      "source": [
        "Find the greatest of four nos ( using ‘and’ operator) using function."
      ]
    },
    {
      "cell_type": "code",
      "metadata": {
        "id": "A2DJPZpasRVu",
        "colab_type": "code",
        "colab": {
          "base_uri": "https://localhost:8080/",
          "height": 52
        },
        "outputId": "74125b2b-e5f9-42dc-f9d8-11c7768d0ee1"
      },
      "source": [
        "n1,n2,n3,n4=map(int,input(\"Enter the four numbers: \").split())\n",
        "if (n1>n2 and n1>n3 and n1>n4):\n",
        "  print(\"{0} is greater \".format(n1))\n",
        "elif (n2>n1 and n2>n3 and n2>n4):\n",
        "  print(\"{0} is greater \".format(n2))\n",
        "elif (n3>n1 and n3>n2 and n3>n4):\n",
        "  print(\"{0} is greater \".format(n3))\n",
        "else:\n",
        "  print(\"{0} is greater \".format(n4))  \n",
        "      "
      ],
      "execution_count": 24,
      "outputs": [
        {
          "output_type": "stream",
          "text": [
            "Enter the four numbers: 5 65 58 98\n",
            "98 is greater \n"
          ],
          "name": "stdout"
        }
      ]
    },
    {
      "cell_type": "markdown",
      "metadata": {
        "id": "T8Op08CnumRD",
        "colab_type": "text"
      },
      "source": [
        "Write a menu program to perform the operations ( ODDorEven, Factorial,\n",
        "ODDNoUptoN, PrimeUptoN ) using functions for two nos with menu choice"
      ]
    },
    {
      "cell_type": "code",
      "metadata": {
        "id": "CounsOcduq6p",
        "colab_type": "code",
        "colab": {
          "base_uri": "https://localhost:8080/",
          "height": 1000
        },
        "outputId": "a6485d7c-da0f-47bb-9fac-a20404546c43"
      },
      "source": [
        "import math\n",
        "import sympy\n",
        "loop = 1\n",
        "choice = 0\n",
        "while loop :\n",
        "  print(\"\\n\\n1) ODD or EVEN\\n2) Factorial\\n3) ODD no. upto N\\n4) Prime upto N\\n5) Exit\")\n",
        "  try:\n",
        "    choice = int(input(print(\"Enter the Choice\")))\n",
        "  except:\n",
        "    print(\"Enter the valid number\")\n",
        "  \n",
        "  if choice == 1:\n",
        "    n = int(input(\"enter the value : \"))\n",
        "    if n%2==0:\n",
        "      print(n,\" is EVEN\")\n",
        "    else:\n",
        "      print(n,\" is ODD\")\n",
        "  elif choice == 2:\n",
        "    n = int(input(\"enter the value : \"))\n",
        "    print(\"Factorial of {0} is : \".format(n),math.factorial(n))\n",
        "  elif choice == 3:\n",
        "    n = int(input(\"enter the value : \"))\n",
        "    for i in range(n):\n",
        "      if i%2 == 1:\n",
        "        print(i,end=\" \")\n",
        "  elif choice == 4:\n",
        "    n = int(input(\"enter the value : \"))\n",
        "    for i in range(n):\n",
        "      if sympy.isprime(i):\n",
        "        print(i,end=\" \")\n",
        "  elif choice == 5:\n",
        "    loop = 0;\n",
        "    print(\"Thank You...\")"
      ],
      "execution_count": 25,
      "outputs": [
        {
          "output_type": "stream",
          "text": [
            "\n",
            "\n",
            "1) ODD or EVEN\n",
            "2) Factorial\n",
            "3) ODD no. upto N\n",
            "4) Prime upto N\n",
            "5) Exit\n",
            "Enter the Choice\n",
            "1\n",
            "enter the value : 9\n",
            "9  is ODD\n",
            "\n",
            "\n",
            "1) ODD or EVEN\n",
            "2) Factorial\n",
            "3) ODD no. upto N\n",
            "4) Prime upto N\n",
            "5) Exit\n",
            "Enter the Choice\n",
            "2\n",
            "enter the value : 5\n",
            "Factorial of 5 is :  120\n",
            "\n",
            "\n",
            "1) ODD or EVEN\n",
            "2) Factorial\n",
            "3) ODD no. upto N\n",
            "4) Prime upto N\n",
            "5) Exit\n",
            "Enter the Choice\n",
            "20\n",
            "\n",
            "\n",
            "1) ODD or EVEN\n",
            "2) Factorial\n",
            "3) ODD no. upto N\n",
            "4) Prime upto N\n",
            "5) Exit\n",
            "Enter the Choice\n",
            "3\n",
            "enter the value : 20\n",
            "1 3 5 7 9 11 13 15 17 19 \n",
            "\n",
            "1) ODD or EVEN\n",
            "2) Factorial\n",
            "3) ODD no. upto N\n",
            "4) Prime upto N\n",
            "5) Exit\n",
            "Enter the Choice\n",
            "4\n",
            "enter the value : 20\n",
            "2 3 5 7 11 13 17 19 \n",
            "\n",
            "1) ODD or EVEN\n",
            "2) Factorial\n",
            "3) ODD no. upto N\n",
            "4) Prime upto N\n",
            "5) Exit\n",
            "Enter the Choice\n",
            "5\n",
            "Thank You...\n"
          ],
          "name": "stdout"
        }
      ]
    }
  ]
}