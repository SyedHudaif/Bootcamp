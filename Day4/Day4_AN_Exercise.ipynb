{
  "nbformat": 4,
  "nbformat_minor": 0,
  "metadata": {
    "colab": {
      "name": "Day4_AN_Exercise.ipynb",
      "provenance": [],
      "authorship_tag": "ABX9TyOGyIUxFJcT/SsjiYh12H1l",
      "include_colab_link": true
    },
    "kernelspec": {
      "name": "python3",
      "display_name": "Python 3"
    }
  },
  "cells": [
    {
      "cell_type": "markdown",
      "metadata": {
        "id": "view-in-github",
        "colab_type": "text"
      },
      "source": [
        "<a href=\"https://colab.research.google.com/github/SyedHudaif/Bootcamp/blob/master/Day4/Day4_AN_Exercise.ipynb\" target=\"_parent\"><img src=\"https://colab.research.google.com/assets/colab-badge.svg\" alt=\"Open In Colab\"/></a>"
      ]
    },
    {
      "cell_type": "markdown",
      "metadata": {
        "id": "5b-lQr5M6cr_",
        "colab_type": "text"
      },
      "source": [
        "Write a function called check() , that takes in a list as the input. It has to return whether every\n",
        "element in it as ‘greater than 5’ or ‘not greater than 5’ or equal to 5. The returned value has to be\n",
        "placed in the list of tuples as (4, 'Less than 5'), (12, 'Greater than 5 '), (5, 'Equal to 5 '), and so on..."
      ]
    },
    {
      "cell_type": "code",
      "metadata": {
        "id": "aDLci5dC6cO8",
        "colab_type": "code",
        "colab": {
          "base_uri": "https://localhost:8080/",
          "height": 34
        },
        "outputId": "fe67610f-34be-4c8b-9270-1c849a2fcfc6"
      },
      "source": [
        "def check(list):\n",
        "  l1=[]\n",
        "  for i in range(len(list)):\n",
        "    if list[i]>5:\n",
        "      s=\"Greater then 5\"\n",
        "    elif list[i]<5:\n",
        "      s=\"Less then 5\"\n",
        "    else:\n",
        "      s=\"Equal to 5\"\n",
        "    x=(list[i],s)\n",
        "    l1.append(x)\n",
        "  return l1\n",
        "list=[2,5,6,4,9,8,7]\n",
        "print(check(list))\n"
      ],
      "execution_count": 2,
      "outputs": [
        {
          "output_type": "stream",
          "text": [
            "[(2, 'Less then 5'), (5, 'Equal to 5'), (6, 'Greater then 5'), (4, 'Less then 5'), (9, 'Greater then 5'), (8, 'Greater then 5'), (7, 'Greater then 5')]\n"
          ],
          "name": "stdout"
        }
      ]
    },
    {
      "cell_type": "markdown",
      "metadata": {
        "id": "oGNhUWbA6LhI",
        "colab_type": "text"
      },
      "source": [
        "\n",
        "Write a program in Python to produce Star triangle for any number n\n",
        "\n"
      ]
    },
    {
      "cell_type": "code",
      "metadata": {
        "id": "_HnKRCik6Kcu",
        "colab_type": "code",
        "colab": {
          "base_uri": "https://localhost:8080/",
          "height": 119
        },
        "outputId": "6e23ab2a-21ea-43ad-e0e6-a69b4a7cb31a"
      },
      "source": [
        "n=int(input(\"Enter n value\"))\n",
        "m = (2 * n) - 2\n",
        "for i in range(0, n):\n",
        "    for j in range(0, m):\n",
        "        print(end=\" \")\n",
        "    m = m - 1  \n",
        "    for j in range(0, i + 1):\n",
        "        print(\"*\", end=' ')\n",
        "    print(\" \")"
      ],
      "execution_count": 2,
      "outputs": [
        {
          "output_type": "stream",
          "text": [
            "Enter n value5\n",
            "        *  \n",
            "       * *  \n",
            "      * * *  \n",
            "     * * * *  \n",
            "    * * * * *  \n"
          ],
          "name": "stdout"
        }
      ]
    },
    {
      "cell_type": "markdown",
      "metadata": {
        "id": "aOZEafHY6lY_",
        "colab_type": "text"
      },
      "source": [
        "Write a program to produce Fibonacci series using generator in Python"
      ]
    },
    {
      "cell_type": "code",
      "metadata": {
        "id": "fgGNcUbC6mTn",
        "colab_type": "code",
        "colab": {
          "base_uri": "https://localhost:8080/",
          "height": 119
        },
        "outputId": "74b95f17-0e5b-45be-d038-95aaf6fdadbe"
      },
      "source": [
        "def fib(n):\n",
        "  fib1,fib2=0,1\n",
        "  while fib1<n:\n",
        "    yield fib1\n",
        "    fib1,fib2=fib2,fib1+fib2\n",
        "n=int(input(\"Enter n value\"))\n",
        "for i in fib(n):\n",
        "  print(i)\n"
      ],
      "execution_count": 4,
      "outputs": [
        {
          "output_type": "stream",
          "text": [
            "Enter n value5\n",
            "0\n",
            "1\n",
            "1\n",
            "2\n",
            "3\n"
          ],
          "name": "stdout"
        }
      ]
    },
    {
      "cell_type": "markdown",
      "metadata": {
        "id": "EzHhvWGR6rHX",
        "colab_type": "text"
      },
      "source": [
        "Write a program to check a number and a string are palindrome or not without using looping\n",
        "statement."
      ]
    },
    {
      "cell_type": "code",
      "metadata": {
        "id": "mejIP0Xj6sI-",
        "colab_type": "code",
        "colab": {
          "base_uri": "https://localhost:8080/",
          "height": 51
        },
        "outputId": "4ccca223-63a4-426a-c4bf-f76fc8685695"
      },
      "source": [
        "s=input(\"Enter a number or string : \")\n",
        "if (s==s[::-1]):\n",
        "  print(\"Palindrone\")\n",
        "else:\n",
        "  print(\"Not a palindrome\")\n"
      ],
      "execution_count": 8,
      "outputs": [
        {
          "output_type": "stream",
          "text": [
            "Enter a number or string : madam\n",
            "Palindrone\n"
          ],
          "name": "stdout"
        }
      ]
    },
    {
      "cell_type": "markdown",
      "metadata": {
        "id": "t3Z_gaky6uIW",
        "colab_type": "text"
      },
      "source": [
        "Convert the following dictionary into two lists of country and medals. Again convert them into\n",
        "list of (country,medals) . Finally convert the list of tuples into dictionary again.\n",
        "golds = {\"Italy\": 12, \"USA\": 33, \"Brazil\": 15, \"China\": 27, \"Spain\": 19,\\\n",
        "\"Canada\": 22, \"Argentina\": 8, \"England\": 29}"
      ]
    },
    {
      "cell_type": "code",
      "metadata": {
        "id": "ajs9G4xh6u3m",
        "colab_type": "code",
        "colab": {}
      },
      "source": [
        ""
      ],
      "execution_count": null,
      "outputs": []
    },
    {
      "cell_type": "markdown",
      "metadata": {
        "id": "4uUckEJL6wlu",
        "colab_type": "text"
      },
      "source": [
        " Sort the following dictionary golds by country and medals as\n",
        "- medals by ascending order\n",
        "- medals by descending order\n",
        "-country by ascending order\n",
        "-country by descending order\n",
        "print them separately\n",
        "golds = {\"Italy\": 114, \"Germany\": 782, \"Pakistan\": 10, \"Sweden\": 6,\\\n",
        "\"USA\": 2681, \"Zimbabwe\": 8, \"Greece\": 111, \"Mongolia\": 24,\\\n",
        "\"Brazil\": 108, \"Croatia\": 34, \"Algeria\": 15,\\\n",
        "\"Switzerland\": 323, \"Yugoslavia\": 87, \"China\": 526,\\\n",
        "\"Egypt\": 26, \"Norway\": 477, \"Spain\": 133, \"Australia\": 48,\\\n",
        "\"Slovakia\": 29, \"Canada\": 22, \"New Zealand\": 100,\\\n",
        "\"Denmark\": 180, \"Chile\": 13, \"Argentina\": 70, \\\n",
        "\"Thailand\": 24, \"Cuba\": 209, \"Uganda\": 7, \"England\": 806,\\\n",
        "\"Denmark\": 180, \"Ukraine\": 122, \"Bahamas\": 12}"
      ]
    },
    {
      "cell_type": "code",
      "metadata": {
        "id": "aX-hcDks6yx3",
        "colab_type": "code",
        "colab": {}
      },
      "source": [
        ""
      ],
      "execution_count": null,
      "outputs": []
    }
  ]
}